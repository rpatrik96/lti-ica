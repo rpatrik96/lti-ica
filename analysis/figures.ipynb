{
 "cells": [
  {
   "cell_type": "markdown",
   "source": [
    "# Imports"
   ],
   "metadata": {
    "collapsed": false
   }
  },
  {
   "cell_type": "code",
   "execution_count": 3,
   "metadata": {
    "ExecuteTime": {
     "end_time": "2023-10-18T14:32:28.666896Z",
     "start_time": "2023-10-18T14:32:26.166476Z"
    }
   },
   "outputs": [],
   "source": [
    "# imports\n",
    "import numpy as np\n",
    "from tueplots import bundles, figsizes\n",
    "import wandb\n",
    "import matplotlib.pyplot as plt\n",
    "import matplotlib.lines as mlines\n",
    "\n",
    "import sys\n",
    "\n",
    "%load_ext autoreload\n",
    "%autoreload 2\n",
    "\n",
    "sys.path.insert(0, '.')"
   ]
  },
  {
   "cell_type": "code",
   "execution_count": 4,
   "outputs": [],
   "source": [
    "from analysis import sweep2df, plot_typography\n"
   ],
   "metadata": {
    "collapsed": false,
    "ExecuteTime": {
     "end_time": "2023-10-18T14:32:32.173368Z",
     "start_time": "2023-10-18T14:32:28.670570Z"
    }
   }
  },
  {
   "cell_type": "code",
   "execution_count": 5,
   "outputs": [],
   "source": [
    "USETEX = True"
   ],
   "metadata": {
    "collapsed": false,
    "ExecuteTime": {
     "end_time": "2023-10-18T14:32:32.217238Z",
     "start_time": "2023-10-18T14:32:32.175887Z"
    }
   }
  },
  {
   "cell_type": "code",
   "execution_count": 9,
   "outputs": [],
   "source": [
    "plt.rcParams.update(bundles.neurips2022(usetex=USETEX))\n",
    "# plt.rcParams.update({\n",
    "#     'text.latex.preamble': [r'\\usepackage{amsfonts}', # mathbb\n",
    "#                             r'\\usepackage{amsmath}'] # boldsymbol\n",
    "# })"
   ],
   "metadata": {
    "collapsed": false,
    "ExecuteTime": {
     "end_time": "2023-10-18T14:33:02.133487Z",
     "start_time": "2023-10-18T14:33:02.077854Z"
    }
   }
  },
  {
   "cell_type": "code",
   "execution_count": 10,
   "outputs": [],
   "source": [
    "plot_typography(usetex=USETEX, small=12, medium=16, big=20)"
   ],
   "metadata": {
    "collapsed": false,
    "ExecuteTime": {
     "end_time": "2023-10-18T14:33:03.401641Z",
     "start_time": "2023-10-18T14:33:03.318641Z"
    }
   }
  },
  {
   "cell_type": "code",
   "execution_count": 11,
   "metadata": {
    "ExecuteTime": {
     "end_time": "2023-10-18T14:33:03.919443Z",
     "start_time": "2023-10-18T14:33:03.675077Z"
    }
   },
   "outputs": [],
   "source": [
    "# Constants\n",
    "ENTITY = \"causal-representation-learning\"\n",
    "PROJECT = \"lti-ica\"\n",
    "\n",
    "# W&B API\n",
    "api = wandb.Api(timeout=200)\n",
    "runs = api.runs(ENTITY + \"/\" + PROJECT)"
   ]
  },
  {
   "cell_type": "markdown",
   "source": [
    "# Data loading"
   ],
   "metadata": {
    "collapsed": false
   }
  },
  {
   "cell_type": "markdown",
   "source": [
    "## Max variability"
   ],
   "metadata": {
    "collapsed": false
   }
  },
  {
   "cell_type": "code",
   "execution_count": 12,
   "outputs": [],
   "source": [
    "SWEEP_ID = \"6u3mgtpz\"\n",
    "sweep = api.sweep(f\"{ENTITY}/{PROJECT}/{SWEEP_ID}\")\n",
    "filename = f\"sam_vae_{SWEEP_ID}\"\n",
    "df_max_var, train_log_likelihood_max_var, train_mcc_max_var, val_log_likelihood_max_var, val_mcc_max_var = sweep2df(sweep.runs, filename, save=True, load=True)"
   ],
   "metadata": {
    "collapsed": false,
    "ExecuteTime": {
     "end_time": "2023-10-18T14:33:33.083461Z",
     "start_time": "2023-10-18T14:33:06.018311Z"
    }
   }
  },
  {
   "cell_type": "code",
   "execution_count": 16,
   "outputs": [],
   "source": [
    "num_comps = df_max_var.num_comp.unique()"
   ],
   "metadata": {
    "collapsed": false,
    "ExecuteTime": {
     "end_time": "2023-10-18T14:37:41.114887Z",
     "start_time": "2023-10-18T14:37:41.055468Z"
    }
   }
  },
  {
   "cell_type": "code",
   "execution_count": 31,
   "outputs": [
    {
     "data": {
      "text/plain": "          train_mcc  max_train_mcc   val_mcc  max_val_mcc\nnum_comp                                                 \n2          0.967982       0.986363  0.863717     0.872004\n3          0.999989       0.999995  0.997175     0.999113\n5          0.995257       0.997355  0.824089     0.826335",
      "text/html": "<div>\n<style scoped>\n    .dataframe tbody tr th:only-of-type {\n        vertical-align: middle;\n    }\n\n    .dataframe tbody tr th {\n        vertical-align: top;\n    }\n\n    .dataframe thead th {\n        text-align: right;\n    }\n</style>\n<table border=\"1\" class=\"dataframe\">\n  <thead>\n    <tr style=\"text-align: right;\">\n      <th></th>\n      <th>train_mcc</th>\n      <th>max_train_mcc</th>\n      <th>val_mcc</th>\n      <th>max_val_mcc</th>\n    </tr>\n    <tr>\n      <th>num_comp</th>\n      <th></th>\n      <th></th>\n      <th></th>\n      <th></th>\n    </tr>\n  </thead>\n  <tbody>\n    <tr>\n      <th>2</th>\n      <td>0.967982</td>\n      <td>0.986363</td>\n      <td>0.863717</td>\n      <td>0.872004</td>\n    </tr>\n    <tr>\n      <th>3</th>\n      <td>0.999989</td>\n      <td>0.999995</td>\n      <td>0.997175</td>\n      <td>0.999113</td>\n    </tr>\n    <tr>\n      <th>5</th>\n      <td>0.995257</td>\n      <td>0.997355</td>\n      <td>0.824089</td>\n      <td>0.826335</td>\n    </tr>\n  </tbody>\n</table>\n</div>"
     },
     "execution_count": 31,
     "metadata": {},
     "output_type": "execute_result"
    }
   ],
   "source": [
    "df_max_var.groupby(\"num_comp\").mean()[[\"train_mcc\", \"max_train_mcc\", \"val_mcc\", \"max_val_mcc\"]]"
   ],
   "metadata": {
    "collapsed": false,
    "ExecuteTime": {
     "end_time": "2023-10-18T14:43:11.708864Z",
     "start_time": "2023-10-18T14:43:11.649082Z"
    }
   }
  },
  {
   "cell_type": "code",
   "execution_count": 32,
   "outputs": [
    {
     "data": {
      "text/plain": "          train_mcc  max_train_mcc   val_mcc  max_val_mcc\nnum_comp                                                 \n2          0.054551       0.017632  0.098386     0.106228\n3          0.000017       0.000009  0.001646     0.000368\n5          0.008955       0.004699  0.233161     0.235198",
      "text/html": "<div>\n<style scoped>\n    .dataframe tbody tr th:only-of-type {\n        vertical-align: middle;\n    }\n\n    .dataframe tbody tr th {\n        vertical-align: top;\n    }\n\n    .dataframe thead th {\n        text-align: right;\n    }\n</style>\n<table border=\"1\" class=\"dataframe\">\n  <thead>\n    <tr style=\"text-align: right;\">\n      <th></th>\n      <th>train_mcc</th>\n      <th>max_train_mcc</th>\n      <th>val_mcc</th>\n      <th>max_val_mcc</th>\n    </tr>\n    <tr>\n      <th>num_comp</th>\n      <th></th>\n      <th></th>\n      <th></th>\n      <th></th>\n    </tr>\n  </thead>\n  <tbody>\n    <tr>\n      <th>2</th>\n      <td>0.054551</td>\n      <td>0.017632</td>\n      <td>0.098386</td>\n      <td>0.106228</td>\n    </tr>\n    <tr>\n      <th>3</th>\n      <td>0.000017</td>\n      <td>0.000009</td>\n      <td>0.001646</td>\n      <td>0.000368</td>\n    </tr>\n    <tr>\n      <th>5</th>\n      <td>0.008955</td>\n      <td>0.004699</td>\n      <td>0.233161</td>\n      <td>0.235198</td>\n    </tr>\n  </tbody>\n</table>\n</div>"
     },
     "execution_count": 32,
     "metadata": {},
     "output_type": "execute_result"
    }
   ],
   "source": [
    "df_max_var.groupby(\"num_comp\").std()[[\"train_mcc\", \"max_train_mcc\", \"val_mcc\", \"max_val_mcc\"]]"
   ],
   "metadata": {
    "collapsed": false,
    "ExecuteTime": {
     "end_time": "2023-10-18T14:43:23.593748Z",
     "start_time": "2023-10-18T14:43:23.521695Z"
    }
   }
  },
  {
   "cell_type": "markdown",
   "source": [
    "## Minimal segments"
   ],
   "metadata": {
    "collapsed": false
   }
  },
  {
   "cell_type": "code",
   "execution_count": null,
   "outputs": [],
   "source": [
    "SWEEP_ID = \"\"\n",
    "sweep = api.sweep(f\"{ENTITY}/{PROJECT}/{SWEEP_ID}\")\n",
    "filename = f\"sam_vae_{SWEEP_ID}\"\n",
    "df_min_segment, train_log_likelihood_min_segment, train_mcc_min_segment, val_log_likelihood_min_segment, val_mcc_min_segment = sweep2df(sweep.runs, filename, save=True, load=True)"
   ],
   "metadata": {
    "collapsed": false
   }
  },
  {
   "cell_type": "code",
   "execution_count": 34,
   "outputs": [
    {
     "data": {
      "text/plain": "                      train_mcc  max_train_mcc   val_mcc  max_val_mcc\nnum_comp use_B use_C                                                 \n2        True  True    0.967982       0.986363  0.863717     0.872004\n3        True  True    0.999989       0.999995  0.997175     0.999113\n5        True  True    0.995257       0.997355  0.824089     0.826335",
      "text/html": "<div>\n<style scoped>\n    .dataframe tbody tr th:only-of-type {\n        vertical-align: middle;\n    }\n\n    .dataframe tbody tr th {\n        vertical-align: top;\n    }\n\n    .dataframe thead th {\n        text-align: right;\n    }\n</style>\n<table border=\"1\" class=\"dataframe\">\n  <thead>\n    <tr style=\"text-align: right;\">\n      <th></th>\n      <th></th>\n      <th></th>\n      <th>train_mcc</th>\n      <th>max_train_mcc</th>\n      <th>val_mcc</th>\n      <th>max_val_mcc</th>\n    </tr>\n    <tr>\n      <th>num_comp</th>\n      <th>use_B</th>\n      <th>use_C</th>\n      <th></th>\n      <th></th>\n      <th></th>\n      <th></th>\n    </tr>\n  </thead>\n  <tbody>\n    <tr>\n      <th>2</th>\n      <th>True</th>\n      <th>True</th>\n      <td>0.967982</td>\n      <td>0.986363</td>\n      <td>0.863717</td>\n      <td>0.872004</td>\n    </tr>\n    <tr>\n      <th>3</th>\n      <th>True</th>\n      <th>True</th>\n      <td>0.999989</td>\n      <td>0.999995</td>\n      <td>0.997175</td>\n      <td>0.999113</td>\n    </tr>\n    <tr>\n      <th>5</th>\n      <th>True</th>\n      <th>True</th>\n      <td>0.995257</td>\n      <td>0.997355</td>\n      <td>0.824089</td>\n      <td>0.826335</td>\n    </tr>\n  </tbody>\n</table>\n</div>"
     },
     "execution_count": 34,
     "metadata": {},
     "output_type": "execute_result"
    }
   ],
   "source": [
    "df_min_segment.groupby([\"num_comp\", \"use_B\", \"use_C\"]).mean()[[\"train_mcc\", \"max_train_mcc\", \"val_mcc\", \"max_val_mcc\"]]"
   ],
   "metadata": {
    "collapsed": false,
    "ExecuteTime": {
     "end_time": "2023-10-18T14:44:25.467588Z",
     "start_time": "2023-10-18T14:44:25.140518Z"
    }
   }
  },
  {
   "cell_type": "code",
   "execution_count": null,
   "outputs": [],
   "source": [
    "df_min_segment.groupby([\"num_comp\", \"use_B\", \"use_C\"]).std()[[\"train_mcc\", \"max_train_mcc\", \"val_mcc\", \"max_val_mcc\"]]"
   ],
   "metadata": {
    "collapsed": false
   }
  }
 ],
 "metadata": {
  "kernelspec": {
   "display_name": "Python 3 (ipykernel)",
   "language": "python",
   "name": "python3"
  },
  "language_info": {
   "codemirror_mode": {
    "name": "ipython",
    "version": 3
   },
   "file_extension": ".py",
   "mimetype": "text/x-python",
   "name": "python",
   "nbconvert_exporter": "python",
   "pygments_lexer": "ipython3",
   "version": "3.9.6"
  }
 },
 "nbformat": 4,
 "nbformat_minor": 1
}
