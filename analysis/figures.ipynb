{
 "cells": [
  {
   "cell_type": "markdown",
   "source": [
    "# Imports"
   ],
   "metadata": {
    "collapsed": false
   }
  },
  {
   "cell_type": "code",
   "execution_count": 1,
   "metadata": {
    "ExecuteTime": {
     "end_time": "2023-10-23T10:55:09.620719Z",
     "start_time": "2023-10-23T10:55:06.527962Z"
    }
   },
   "outputs": [],
   "source": [
    "# imports\n",
    "import numpy as np\n",
    "from tueplots import bundles, figsizes\n",
    "import wandb\n",
    "import matplotlib.pyplot as plt\n",
    "import matplotlib.lines as mlines\n",
    "\n",
    "import sys\n",
    "\n",
    "%load_ext autoreload\n",
    "%autoreload 2\n",
    "\n",
    "sys.path.insert(0, '.')"
   ]
  },
  {
   "cell_type": "code",
   "execution_count": 2,
   "outputs": [],
   "source": [
    "from analysis import sweep2df, plot_typography\n"
   ],
   "metadata": {
    "collapsed": false,
    "ExecuteTime": {
     "end_time": "2023-10-23T10:55:10.634860Z",
     "start_time": "2023-10-23T10:55:09.625771Z"
    }
   }
  },
  {
   "cell_type": "code",
   "execution_count": 3,
   "outputs": [],
   "source": [
    "USETEX = True"
   ],
   "metadata": {
    "collapsed": false,
    "ExecuteTime": {
     "end_time": "2023-10-23T10:55:10.724733Z",
     "start_time": "2023-10-23T10:55:10.636855Z"
    }
   }
  },
  {
   "cell_type": "code",
   "execution_count": 4,
   "outputs": [],
   "source": [
    "plt.rcParams.update(bundles.neurips2022(usetex=USETEX))\n",
    "# plt.rcParams.update({\n",
    "#     'text.latex.preamble': [r'\\usepackage{amsfonts}', # mathbb\n",
    "#                             r'\\usepackage{amsmath}'] # boldsymbol\n",
    "# })"
   ],
   "metadata": {
    "collapsed": false,
    "ExecuteTime": {
     "end_time": "2023-10-23T10:55:10.725394Z",
     "start_time": "2023-10-23T10:55:10.673294Z"
    }
   }
  },
  {
   "cell_type": "code",
   "execution_count": 5,
   "outputs": [],
   "source": [
    "plot_typography(usetex=USETEX, small=12, medium=16, big=20)"
   ],
   "metadata": {
    "collapsed": false,
    "ExecuteTime": {
     "end_time": "2023-10-23T10:55:10.765235Z",
     "start_time": "2023-10-23T10:55:10.721253Z"
    }
   }
  },
  {
   "cell_type": "code",
   "execution_count": 6,
   "metadata": {
    "ExecuteTime": {
     "end_time": "2023-10-23T10:55:11.084555Z",
     "start_time": "2023-10-23T10:55:10.767629Z"
    }
   },
   "outputs": [],
   "source": [
    "# Constants\n",
    "ENTITY = \"causal-representation-learning\"\n",
    "PROJECT = \"lti-ica\"\n",
    "\n",
    "# W&B API\n",
    "api = wandb.Api(timeout=200)\n",
    "runs = api.runs(ENTITY + \"/\" + PROJECT)"
   ]
  },
  {
   "cell_type": "markdown",
   "source": [
    "# Data loading"
   ],
   "metadata": {
    "collapsed": false
   }
  },
  {
   "cell_type": "markdown",
   "source": [
    "## Max variability"
   ],
   "metadata": {
    "collapsed": false
   }
  },
  {
   "cell_type": "code",
   "execution_count": null,
   "outputs": [],
   "source": [
    "SWEEP_ID = \"6u3mgtpz\"\n",
    "sweep = api.sweep(f\"{ENTITY}/{PROJECT}/{SWEEP_ID}\")\n",
    "filename = f\"max_var_{SWEEP_ID}\"\n",
    "df_max_var, train_log_likelihood_max_var, train_mcc_max_var, val_log_likelihood_max_var, val_mcc_max_var = sweep2df(sweep.runs, filename, save=True, load=True)"
   ],
   "metadata": {
    "collapsed": false
   }
  },
  {
   "cell_type": "code",
   "execution_count": 16,
   "outputs": [],
   "source": [
    "num_comps = df_max_var.num_comp.unique()"
   ],
   "metadata": {
    "collapsed": false,
    "ExecuteTime": {
     "end_time": "2023-10-18T14:37:41.114887Z",
     "start_time": "2023-10-18T14:37:41.055468Z"
    }
   }
  },
  {
   "cell_type": "code",
   "execution_count": 31,
   "outputs": [
    {
     "data": {
      "text/plain": "          train_mcc  max_train_mcc   val_mcc  max_val_mcc\nnum_comp                                                 \n2          0.967982       0.986363  0.863717     0.872004\n3          0.999989       0.999995  0.997175     0.999113\n5          0.995257       0.997355  0.824089     0.826335",
      "text/html": "<div>\n<style scoped>\n    .dataframe tbody tr th:only-of-type {\n        vertical-align: middle;\n    }\n\n    .dataframe tbody tr th {\n        vertical-align: top;\n    }\n\n    .dataframe thead th {\n        text-align: right;\n    }\n</style>\n<table border=\"1\" class=\"dataframe\">\n  <thead>\n    <tr style=\"text-align: right;\">\n      <th></th>\n      <th>train_mcc</th>\n      <th>max_train_mcc</th>\n      <th>val_mcc</th>\n      <th>max_val_mcc</th>\n    </tr>\n    <tr>\n      <th>num_comp</th>\n      <th></th>\n      <th></th>\n      <th></th>\n      <th></th>\n    </tr>\n  </thead>\n  <tbody>\n    <tr>\n      <th>2</th>\n      <td>0.967982</td>\n      <td>0.986363</td>\n      <td>0.863717</td>\n      <td>0.872004</td>\n    </tr>\n    <tr>\n      <th>3</th>\n      <td>0.999989</td>\n      <td>0.999995</td>\n      <td>0.997175</td>\n      <td>0.999113</td>\n    </tr>\n    <tr>\n      <th>5</th>\n      <td>0.995257</td>\n      <td>0.997355</td>\n      <td>0.824089</td>\n      <td>0.826335</td>\n    </tr>\n  </tbody>\n</table>\n</div>"
     },
     "execution_count": 31,
     "metadata": {},
     "output_type": "execute_result"
    }
   ],
   "source": [
    "df_max_var.groupby(\"num_comp\").mean()[[\"train_mcc\", \"max_train_mcc\", \"val_mcc\", \"max_val_mcc\"]]"
   ],
   "metadata": {
    "collapsed": false,
    "ExecuteTime": {
     "end_time": "2023-10-18T14:43:11.708864Z",
     "start_time": "2023-10-18T14:43:11.649082Z"
    }
   }
  },
  {
   "cell_type": "code",
   "execution_count": 32,
   "outputs": [
    {
     "data": {
      "text/plain": "          train_mcc  max_train_mcc   val_mcc  max_val_mcc\nnum_comp                                                 \n2          0.054551       0.017632  0.098386     0.106228\n3          0.000017       0.000009  0.001646     0.000368\n5          0.008955       0.004699  0.233161     0.235198",
      "text/html": "<div>\n<style scoped>\n    .dataframe tbody tr th:only-of-type {\n        vertical-align: middle;\n    }\n\n    .dataframe tbody tr th {\n        vertical-align: top;\n    }\n\n    .dataframe thead th {\n        text-align: right;\n    }\n</style>\n<table border=\"1\" class=\"dataframe\">\n  <thead>\n    <tr style=\"text-align: right;\">\n      <th></th>\n      <th>train_mcc</th>\n      <th>max_train_mcc</th>\n      <th>val_mcc</th>\n      <th>max_val_mcc</th>\n    </tr>\n    <tr>\n      <th>num_comp</th>\n      <th></th>\n      <th></th>\n      <th></th>\n      <th></th>\n    </tr>\n  </thead>\n  <tbody>\n    <tr>\n      <th>2</th>\n      <td>0.054551</td>\n      <td>0.017632</td>\n      <td>0.098386</td>\n      <td>0.106228</td>\n    </tr>\n    <tr>\n      <th>3</th>\n      <td>0.000017</td>\n      <td>0.000009</td>\n      <td>0.001646</td>\n      <td>0.000368</td>\n    </tr>\n    <tr>\n      <th>5</th>\n      <td>0.008955</td>\n      <td>0.004699</td>\n      <td>0.233161</td>\n      <td>0.235198</td>\n    </tr>\n  </tbody>\n</table>\n</div>"
     },
     "execution_count": 32,
     "metadata": {},
     "output_type": "execute_result"
    }
   ],
   "source": [
    "df_max_var.groupby(\"num_comp\").std()[[\"train_mcc\", \"max_train_mcc\", \"val_mcc\", \"max_val_mcc\"]]"
   ],
   "metadata": {
    "collapsed": false,
    "ExecuteTime": {
     "end_time": "2023-10-18T14:43:23.593748Z",
     "start_time": "2023-10-18T14:43:23.521695Z"
    }
   }
  },
  {
   "cell_type": "markdown",
   "source": [
    "### Rerun for 8 and 10 dimensions"
   ],
   "metadata": {
    "collapsed": false
   }
  },
  {
   "cell_type": "code",
   "execution_count": 31,
   "outputs": [],
   "source": [
    "SWEEP_ID = \"f2n0z65l\"\n",
    "sweep = api.sweep(f\"{ENTITY}/{PROJECT}/{SWEEP_ID}\")\n",
    "filename = f\"max_var_8_10_{SWEEP_ID}\"\n",
    "df_max_var_8_10, train_log_likelihood_max_var_8_10, train_mcc_max_var_8_10, val_log_likelihood_max_var_8_10, val_mcc_max_var_8_10 = sweep2df(sweep.runs, filename, save=True, load=False)"
   ],
   "metadata": {
    "collapsed": false,
    "ExecuteTime": {
     "end_time": "2023-10-23T11:24:45.121826Z",
     "start_time": "2023-10-23T11:24:41.413989Z"
    }
   }
  },
  {
   "cell_type": "code",
   "execution_count": 32,
   "outputs": [
    {
     "data": {
      "text/plain": "          train_mcc  max_train_mcc   val_mcc  max_val_mcc\nnum_comp                                                 \n8          0.976543       0.984138  0.435802     0.435802",
      "text/html": "<div>\n<style scoped>\n    .dataframe tbody tr th:only-of-type {\n        vertical-align: middle;\n    }\n\n    .dataframe tbody tr th {\n        vertical-align: top;\n    }\n\n    .dataframe thead th {\n        text-align: right;\n    }\n</style>\n<table border=\"1\" class=\"dataframe\">\n  <thead>\n    <tr style=\"text-align: right;\">\n      <th></th>\n      <th>train_mcc</th>\n      <th>max_train_mcc</th>\n      <th>val_mcc</th>\n      <th>max_val_mcc</th>\n    </tr>\n    <tr>\n      <th>num_comp</th>\n      <th></th>\n      <th></th>\n      <th></th>\n      <th></th>\n    </tr>\n  </thead>\n  <tbody>\n    <tr>\n      <th>8</th>\n      <td>0.976543</td>\n      <td>0.984138</td>\n      <td>0.435802</td>\n      <td>0.435802</td>\n    </tr>\n  </tbody>\n</table>\n</div>"
     },
     "execution_count": 32,
     "metadata": {},
     "output_type": "execute_result"
    }
   ],
   "source": [
    "df_max_var_8_10.groupby(\"num_comp\").mean()[[\"train_mcc\", \"max_train_mcc\", \"val_mcc\", \"max_val_mcc\"]]"
   ],
   "metadata": {
    "collapsed": false,
    "ExecuteTime": {
     "end_time": "2023-10-23T11:24:45.173885Z",
     "start_time": "2023-10-23T11:24:45.125095Z"
    }
   }
  },
  {
   "cell_type": "code",
   "execution_count": 33,
   "outputs": [
    {
     "data": {
      "text/plain": "          train_mcc  max_train_mcc   val_mcc  max_val_mcc\nnum_comp                                                 \n8          0.010628       0.008797  0.102631     0.102631",
      "text/html": "<div>\n<style scoped>\n    .dataframe tbody tr th:only-of-type {\n        vertical-align: middle;\n    }\n\n    .dataframe tbody tr th {\n        vertical-align: top;\n    }\n\n    .dataframe thead th {\n        text-align: right;\n    }\n</style>\n<table border=\"1\" class=\"dataframe\">\n  <thead>\n    <tr style=\"text-align: right;\">\n      <th></th>\n      <th>train_mcc</th>\n      <th>max_train_mcc</th>\n      <th>val_mcc</th>\n      <th>max_val_mcc</th>\n    </tr>\n    <tr>\n      <th>num_comp</th>\n      <th></th>\n      <th></th>\n      <th></th>\n      <th></th>\n    </tr>\n  </thead>\n  <tbody>\n    <tr>\n      <th>8</th>\n      <td>0.010628</td>\n      <td>0.008797</td>\n      <td>0.102631</td>\n      <td>0.102631</td>\n    </tr>\n  </tbody>\n</table>\n</div>"
     },
     "execution_count": 33,
     "metadata": {},
     "output_type": "execute_result"
    }
   ],
   "source": [
    "df_max_var_8_10.groupby(\"num_comp\").std()[[\"train_mcc\", \"max_train_mcc\", \"val_mcc\", \"max_val_mcc\"]]"
   ],
   "metadata": {
    "collapsed": false,
    "ExecuteTime": {
     "end_time": "2023-10-23T11:24:45.232503Z",
     "start_time": "2023-10-23T11:24:45.171308Z"
    }
   }
  },
  {
   "cell_type": "markdown",
   "source": [
    "## Minimal segments"
   ],
   "metadata": {
    "collapsed": false
   }
  },
  {
   "cell_type": "markdown",
   "source": [
    "### Original sweep"
   ],
   "metadata": {
    "collapsed": false
   }
  },
  {
   "cell_type": "code",
   "execution_count": 21,
   "outputs": [],
   "source": [
    "SWEEP_ID =  \"shrjtedq\" #\"03w02539\"\n",
    "sweep = api.sweep(f\"{ENTITY}/{PROJECT}/{SWEEP_ID}\")\n",
    "filename = f\"min_segment_{SWEEP_ID}\"\n",
    "df_min_segment, train_log_likelihood_min_segment, train_mcc_min_segment, val_log_likelihood_min_segment, val_mcc_min_segment = sweep2df(sweep.runs, filename, save=True, load=False)"
   ],
   "metadata": {
    "collapsed": false,
    "ExecuteTime": {
     "end_time": "2023-10-23T11:21:51.061901Z",
     "start_time": "2023-10-23T11:19:51.772790Z"
    }
   }
  },
  {
   "cell_type": "code",
   "execution_count": 22,
   "outputs": [
    {
     "data": {
      "text/plain": "                      train_mcc  max_train_mcc   val_mcc  max_val_mcc\nnum_comp use_B use_C                                                 \n2        False False   0.749610       0.887405  0.601228     0.643706\n               True    0.720776       0.825444  0.595818     0.621123\n         True  False   0.732003       0.835528  0.605064     0.630943\n               True    0.711214       0.874172  0.664579     0.691120\n3        False False   0.780123       0.867930  0.687267     0.729727\n               True    0.764321       0.859162  0.682664     0.692265\n         True  False   0.774278       0.868033  0.705219     0.734749\n               True    0.764163       0.856587  0.728543     0.744332\n5        False False   0.774317       0.846832  0.702643     0.719298\n               True    0.773904       0.835337  0.693275     0.707001\n         True  False   0.774009       0.826888  0.700415     0.714764\n               True    0.724884       0.811346  0.612397     0.672512\n8        False False   0.763699       0.826020  0.691167     0.726957\n               True    0.942531       0.957089  0.803182     0.803958",
      "text/html": "<div>\n<style scoped>\n    .dataframe tbody tr th:only-of-type {\n        vertical-align: middle;\n    }\n\n    .dataframe tbody tr th {\n        vertical-align: top;\n    }\n\n    .dataframe thead th {\n        text-align: right;\n    }\n</style>\n<table border=\"1\" class=\"dataframe\">\n  <thead>\n    <tr style=\"text-align: right;\">\n      <th></th>\n      <th></th>\n      <th></th>\n      <th>train_mcc</th>\n      <th>max_train_mcc</th>\n      <th>val_mcc</th>\n      <th>max_val_mcc</th>\n    </tr>\n    <tr>\n      <th>num_comp</th>\n      <th>use_B</th>\n      <th>use_C</th>\n      <th></th>\n      <th></th>\n      <th></th>\n      <th></th>\n    </tr>\n  </thead>\n  <tbody>\n    <tr>\n      <th rowspan=\"4\" valign=\"top\">2</th>\n      <th rowspan=\"2\" valign=\"top\">False</th>\n      <th>False</th>\n      <td>0.749610</td>\n      <td>0.887405</td>\n      <td>0.601228</td>\n      <td>0.643706</td>\n    </tr>\n    <tr>\n      <th>True</th>\n      <td>0.720776</td>\n      <td>0.825444</td>\n      <td>0.595818</td>\n      <td>0.621123</td>\n    </tr>\n    <tr>\n      <th rowspan=\"2\" valign=\"top\">True</th>\n      <th>False</th>\n      <td>0.732003</td>\n      <td>0.835528</td>\n      <td>0.605064</td>\n      <td>0.630943</td>\n    </tr>\n    <tr>\n      <th>True</th>\n      <td>0.711214</td>\n      <td>0.874172</td>\n      <td>0.664579</td>\n      <td>0.691120</td>\n    </tr>\n    <tr>\n      <th rowspan=\"4\" valign=\"top\">3</th>\n      <th rowspan=\"2\" valign=\"top\">False</th>\n      <th>False</th>\n      <td>0.780123</td>\n      <td>0.867930</td>\n      <td>0.687267</td>\n      <td>0.729727</td>\n    </tr>\n    <tr>\n      <th>True</th>\n      <td>0.764321</td>\n      <td>0.859162</td>\n      <td>0.682664</td>\n      <td>0.692265</td>\n    </tr>\n    <tr>\n      <th rowspan=\"2\" valign=\"top\">True</th>\n      <th>False</th>\n      <td>0.774278</td>\n      <td>0.868033</td>\n      <td>0.705219</td>\n      <td>0.734749</td>\n    </tr>\n    <tr>\n      <th>True</th>\n      <td>0.764163</td>\n      <td>0.856587</td>\n      <td>0.728543</td>\n      <td>0.744332</td>\n    </tr>\n    <tr>\n      <th rowspan=\"4\" valign=\"top\">5</th>\n      <th rowspan=\"2\" valign=\"top\">False</th>\n      <th>False</th>\n      <td>0.774317</td>\n      <td>0.846832</td>\n      <td>0.702643</td>\n      <td>0.719298</td>\n    </tr>\n    <tr>\n      <th>True</th>\n      <td>0.773904</td>\n      <td>0.835337</td>\n      <td>0.693275</td>\n      <td>0.707001</td>\n    </tr>\n    <tr>\n      <th rowspan=\"2\" valign=\"top\">True</th>\n      <th>False</th>\n      <td>0.774009</td>\n      <td>0.826888</td>\n      <td>0.700415</td>\n      <td>0.714764</td>\n    </tr>\n    <tr>\n      <th>True</th>\n      <td>0.724884</td>\n      <td>0.811346</td>\n      <td>0.612397</td>\n      <td>0.672512</td>\n    </tr>\n    <tr>\n      <th rowspan=\"2\" valign=\"top\">8</th>\n      <th rowspan=\"2\" valign=\"top\">False</th>\n      <th>False</th>\n      <td>0.763699</td>\n      <td>0.826020</td>\n      <td>0.691167</td>\n      <td>0.726957</td>\n    </tr>\n    <tr>\n      <th>True</th>\n      <td>0.942531</td>\n      <td>0.957089</td>\n      <td>0.803182</td>\n      <td>0.803958</td>\n    </tr>\n  </tbody>\n</table>\n</div>"
     },
     "execution_count": 22,
     "metadata": {},
     "output_type": "execute_result"
    }
   ],
   "source": [
    "df_min_segment.groupby([\"num_comp\", \"use_B\", \"use_C\"]).mean()[[\"train_mcc\", \"max_train_mcc\", \"val_mcc\", \"max_val_mcc\"]]"
   ],
   "metadata": {
    "collapsed": false,
    "ExecuteTime": {
     "end_time": "2023-10-23T11:21:52.718060Z",
     "start_time": "2023-10-23T11:21:52.321688Z"
    }
   }
  },
  {
   "cell_type": "code",
   "execution_count": 23,
   "outputs": [
    {
     "data": {
      "text/plain": "                      train_mcc  max_train_mcc   val_mcc  max_val_mcc\nnum_comp use_B use_C                                                 \n2        False False   0.143044       0.054397  0.105367     0.090867\n               True    0.145781       0.078683  0.155281     0.159072\n         True  False   0.165058       0.074605  0.169585     0.169743\n               True    0.098364       0.041601  0.113889     0.109193\n3        False False   0.188070       0.109065  0.138182     0.106827\n               True    0.226299       0.125249  0.156497     0.153223\n         True  False   0.169024       0.112382  0.127367     0.123624\n               True    0.132415       0.081142  0.085279     0.084514\n5        False False   0.150660       0.105896  0.113396     0.105216\n               True    0.172979       0.126659  0.129851     0.116479\n         True  False   0.163830       0.127616  0.124442     0.110966\n               True    0.205447       0.137798  0.156283     0.108395\n8        False False   0.214612       0.154955  0.163221     0.125428\n               True    0.005433       0.004018  0.002606     0.003117",
      "text/html": "<div>\n<style scoped>\n    .dataframe tbody tr th:only-of-type {\n        vertical-align: middle;\n    }\n\n    .dataframe tbody tr th {\n        vertical-align: top;\n    }\n\n    .dataframe thead th {\n        text-align: right;\n    }\n</style>\n<table border=\"1\" class=\"dataframe\">\n  <thead>\n    <tr style=\"text-align: right;\">\n      <th></th>\n      <th></th>\n      <th></th>\n      <th>train_mcc</th>\n      <th>max_train_mcc</th>\n      <th>val_mcc</th>\n      <th>max_val_mcc</th>\n    </tr>\n    <tr>\n      <th>num_comp</th>\n      <th>use_B</th>\n      <th>use_C</th>\n      <th></th>\n      <th></th>\n      <th></th>\n      <th></th>\n    </tr>\n  </thead>\n  <tbody>\n    <tr>\n      <th rowspan=\"4\" valign=\"top\">2</th>\n      <th rowspan=\"2\" valign=\"top\">False</th>\n      <th>False</th>\n      <td>0.143044</td>\n      <td>0.054397</td>\n      <td>0.105367</td>\n      <td>0.090867</td>\n    </tr>\n    <tr>\n      <th>True</th>\n      <td>0.145781</td>\n      <td>0.078683</td>\n      <td>0.155281</td>\n      <td>0.159072</td>\n    </tr>\n    <tr>\n      <th rowspan=\"2\" valign=\"top\">True</th>\n      <th>False</th>\n      <td>0.165058</td>\n      <td>0.074605</td>\n      <td>0.169585</td>\n      <td>0.169743</td>\n    </tr>\n    <tr>\n      <th>True</th>\n      <td>0.098364</td>\n      <td>0.041601</td>\n      <td>0.113889</td>\n      <td>0.109193</td>\n    </tr>\n    <tr>\n      <th rowspan=\"4\" valign=\"top\">3</th>\n      <th rowspan=\"2\" valign=\"top\">False</th>\n      <th>False</th>\n      <td>0.188070</td>\n      <td>0.109065</td>\n      <td>0.138182</td>\n      <td>0.106827</td>\n    </tr>\n    <tr>\n      <th>True</th>\n      <td>0.226299</td>\n      <td>0.125249</td>\n      <td>0.156497</td>\n      <td>0.153223</td>\n    </tr>\n    <tr>\n      <th rowspan=\"2\" valign=\"top\">True</th>\n      <th>False</th>\n      <td>0.169024</td>\n      <td>0.112382</td>\n      <td>0.127367</td>\n      <td>0.123624</td>\n    </tr>\n    <tr>\n      <th>True</th>\n      <td>0.132415</td>\n      <td>0.081142</td>\n      <td>0.085279</td>\n      <td>0.084514</td>\n    </tr>\n    <tr>\n      <th rowspan=\"4\" valign=\"top\">5</th>\n      <th rowspan=\"2\" valign=\"top\">False</th>\n      <th>False</th>\n      <td>0.150660</td>\n      <td>0.105896</td>\n      <td>0.113396</td>\n      <td>0.105216</td>\n    </tr>\n    <tr>\n      <th>True</th>\n      <td>0.172979</td>\n      <td>0.126659</td>\n      <td>0.129851</td>\n      <td>0.116479</td>\n    </tr>\n    <tr>\n      <th rowspan=\"2\" valign=\"top\">True</th>\n      <th>False</th>\n      <td>0.163830</td>\n      <td>0.127616</td>\n      <td>0.124442</td>\n      <td>0.110966</td>\n    </tr>\n    <tr>\n      <th>True</th>\n      <td>0.205447</td>\n      <td>0.137798</td>\n      <td>0.156283</td>\n      <td>0.108395</td>\n    </tr>\n    <tr>\n      <th rowspan=\"2\" valign=\"top\">8</th>\n      <th rowspan=\"2\" valign=\"top\">False</th>\n      <th>False</th>\n      <td>0.214612</td>\n      <td>0.154955</td>\n      <td>0.163221</td>\n      <td>0.125428</td>\n    </tr>\n    <tr>\n      <th>True</th>\n      <td>0.005433</td>\n      <td>0.004018</td>\n      <td>0.002606</td>\n      <td>0.003117</td>\n    </tr>\n  </tbody>\n</table>\n</div>"
     },
     "execution_count": 23,
     "metadata": {},
     "output_type": "execute_result"
    }
   ],
   "source": [
    "df_min_segment.groupby([\"num_comp\", \"use_B\", \"use_C\"]).std()[[\"train_mcc\", \"max_train_mcc\", \"val_mcc\", \"max_val_mcc\"]]"
   ],
   "metadata": {
    "collapsed": false,
    "ExecuteTime": {
     "end_time": "2023-10-23T11:21:52.724568Z",
     "start_time": "2023-10-23T11:21:52.460882Z"
    }
   }
  },
  {
   "cell_type": "markdown",
   "source": [
    "### Rerun for 8 and 10 dimensions"
   ],
   "metadata": {
    "collapsed": false
   }
  },
  {
   "cell_type": "code",
   "execution_count": 34,
   "outputs": [
    {
     "name": "stdout",
     "output_type": "stream",
     "text": [
      "Encountered a faulty run with ID upbeat-sweep-15\n"
     ]
    }
   ],
   "source": [
    "SWEEP_ID = \"dvn24tw0\"\n",
    "sweep = api.sweep(f\"{ENTITY}/{PROJECT}/{SWEEP_ID}\")\n",
    "filename = f\"min_segment_8_10_{SWEEP_ID}\"\n",
    "df_min_segment_8_10, train_log_likelihood_min_segment_8_10, train_mcc_min_segment_8_10, val_log_likelihood_min_segment_8_10, val_mcc_min_segment_8_10 = sweep2df(sweep.runs, filename, save=True, load=False)"
   ],
   "metadata": {
    "collapsed": false,
    "ExecuteTime": {
     "end_time": "2023-10-23T12:54:11.700237Z",
     "start_time": "2023-10-23T12:53:22.477190Z"
    }
   }
  },
  {
   "cell_type": "code",
   "execution_count": 35,
   "outputs": [
    {
     "data": {
      "text/plain": "                      train_mcc  max_train_mcc   val_mcc  max_val_mcc\nnum_comp use_B use_C                                                 \n8        False False   0.763699       0.824550  0.691167     0.726957\n               True    0.683156       0.762770  0.614221     0.644257\n         True  False   0.821271       0.851866  0.714802     0.727268\n10       False False   0.731828       0.763287  0.660218     0.662591\n               True    0.762728       0.781123  0.642510     0.658213\n         True  False   0.796362       0.818015  0.662410     0.673324",
      "text/html": "<div>\n<style scoped>\n    .dataframe tbody tr th:only-of-type {\n        vertical-align: middle;\n    }\n\n    .dataframe tbody tr th {\n        vertical-align: top;\n    }\n\n    .dataframe thead th {\n        text-align: right;\n    }\n</style>\n<table border=\"1\" class=\"dataframe\">\n  <thead>\n    <tr style=\"text-align: right;\">\n      <th></th>\n      <th></th>\n      <th></th>\n      <th>train_mcc</th>\n      <th>max_train_mcc</th>\n      <th>val_mcc</th>\n      <th>max_val_mcc</th>\n    </tr>\n    <tr>\n      <th>num_comp</th>\n      <th>use_B</th>\n      <th>use_C</th>\n      <th></th>\n      <th></th>\n      <th></th>\n      <th></th>\n    </tr>\n  </thead>\n  <tbody>\n    <tr>\n      <th rowspan=\"3\" valign=\"top\">8</th>\n      <th rowspan=\"2\" valign=\"top\">False</th>\n      <th>False</th>\n      <td>0.763699</td>\n      <td>0.824550</td>\n      <td>0.691167</td>\n      <td>0.726957</td>\n    </tr>\n    <tr>\n      <th>True</th>\n      <td>0.683156</td>\n      <td>0.762770</td>\n      <td>0.614221</td>\n      <td>0.644257</td>\n    </tr>\n    <tr>\n      <th>True</th>\n      <th>False</th>\n      <td>0.821271</td>\n      <td>0.851866</td>\n      <td>0.714802</td>\n      <td>0.727268</td>\n    </tr>\n    <tr>\n      <th rowspan=\"3\" valign=\"top\">10</th>\n      <th rowspan=\"2\" valign=\"top\">False</th>\n      <th>False</th>\n      <td>0.731828</td>\n      <td>0.763287</td>\n      <td>0.660218</td>\n      <td>0.662591</td>\n    </tr>\n    <tr>\n      <th>True</th>\n      <td>0.762728</td>\n      <td>0.781123</td>\n      <td>0.642510</td>\n      <td>0.658213</td>\n    </tr>\n    <tr>\n      <th>True</th>\n      <th>False</th>\n      <td>0.796362</td>\n      <td>0.818015</td>\n      <td>0.662410</td>\n      <td>0.673324</td>\n    </tr>\n  </tbody>\n</table>\n</div>"
     },
     "execution_count": 35,
     "metadata": {},
     "output_type": "execute_result"
    }
   ],
   "source": [
    "df_min_segment_8_10.groupby([\"num_comp\", \"use_B\", \"use_C\"]).mean()[[\"train_mcc\", \"max_train_mcc\", \"val_mcc\", \"max_val_mcc\"]]"
   ],
   "metadata": {
    "collapsed": false,
    "ExecuteTime": {
     "end_time": "2023-10-23T12:54:11.771199Z",
     "start_time": "2023-10-23T12:54:11.706591Z"
    }
   }
  },
  {
   "cell_type": "code",
   "execution_count": 36,
   "outputs": [
    {
     "data": {
      "text/plain": "                      train_mcc  max_train_mcc   val_mcc  max_val_mcc\nnum_comp use_B use_C                                                 \n8        False False   0.214612       0.154562  0.163221     0.125428\n               True    0.259031       0.190090  0.184958     0.160647\n         True  False   0.204077       0.174552  0.171990     0.153041\n10       False False        NaN            NaN       NaN          NaN\n               True    0.177957       0.191293  0.177224     0.159062\n         True  False   0.178736       0.177976  0.157806     0.144909",
      "text/html": "<div>\n<style scoped>\n    .dataframe tbody tr th:only-of-type {\n        vertical-align: middle;\n    }\n\n    .dataframe tbody tr th {\n        vertical-align: top;\n    }\n\n    .dataframe thead th {\n        text-align: right;\n    }\n</style>\n<table border=\"1\" class=\"dataframe\">\n  <thead>\n    <tr style=\"text-align: right;\">\n      <th></th>\n      <th></th>\n      <th></th>\n      <th>train_mcc</th>\n      <th>max_train_mcc</th>\n      <th>val_mcc</th>\n      <th>max_val_mcc</th>\n    </tr>\n    <tr>\n      <th>num_comp</th>\n      <th>use_B</th>\n      <th>use_C</th>\n      <th></th>\n      <th></th>\n      <th></th>\n      <th></th>\n    </tr>\n  </thead>\n  <tbody>\n    <tr>\n      <th rowspan=\"3\" valign=\"top\">8</th>\n      <th rowspan=\"2\" valign=\"top\">False</th>\n      <th>False</th>\n      <td>0.214612</td>\n      <td>0.154562</td>\n      <td>0.163221</td>\n      <td>0.125428</td>\n    </tr>\n    <tr>\n      <th>True</th>\n      <td>0.259031</td>\n      <td>0.190090</td>\n      <td>0.184958</td>\n      <td>0.160647</td>\n    </tr>\n    <tr>\n      <th>True</th>\n      <th>False</th>\n      <td>0.204077</td>\n      <td>0.174552</td>\n      <td>0.171990</td>\n      <td>0.153041</td>\n    </tr>\n    <tr>\n      <th rowspan=\"3\" valign=\"top\">10</th>\n      <th rowspan=\"2\" valign=\"top\">False</th>\n      <th>False</th>\n      <td>NaN</td>\n      <td>NaN</td>\n      <td>NaN</td>\n      <td>NaN</td>\n    </tr>\n    <tr>\n      <th>True</th>\n      <td>0.177957</td>\n      <td>0.191293</td>\n      <td>0.177224</td>\n      <td>0.159062</td>\n    </tr>\n    <tr>\n      <th>True</th>\n      <th>False</th>\n      <td>0.178736</td>\n      <td>0.177976</td>\n      <td>0.157806</td>\n      <td>0.144909</td>\n    </tr>\n  </tbody>\n</table>\n</div>"
     },
     "execution_count": 36,
     "metadata": {},
     "output_type": "execute_result"
    }
   ],
   "source": [
    "df_min_segment_8_10.groupby([\"num_comp\", \"use_B\", \"use_C\"]).std()[[\"train_mcc\", \"max_train_mcc\", \"val_mcc\", \"max_val_mcc\"]]"
   ],
   "metadata": {
    "collapsed": false,
    "ExecuteTime": {
     "end_time": "2023-10-23T12:54:11.880052Z",
     "start_time": "2023-10-23T12:54:11.770823Z"
    }
   }
  },
  {
   "cell_type": "code",
   "execution_count": null,
   "outputs": [],
   "source": [],
   "metadata": {
    "collapsed": false
   }
  }
 ],
 "metadata": {
  "kernelspec": {
   "display_name": "Python 3 (ipykernel)",
   "language": "python",
   "name": "python3"
  },
  "language_info": {
   "codemirror_mode": {
    "name": "ipython",
    "version": 3
   },
   "file_extension": ".py",
   "mimetype": "text/x-python",
   "name": "python",
   "nbconvert_exporter": "python",
   "pygments_lexer": "ipython3",
   "version": "3.9.6"
  }
 },
 "nbformat": 4,
 "nbformat_minor": 1
}
