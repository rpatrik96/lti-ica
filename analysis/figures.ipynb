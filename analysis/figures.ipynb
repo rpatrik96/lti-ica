{
 "cells": [
  {
   "cell_type": "markdown",
   "source": [
    "# Imports"
   ],
   "metadata": {
    "collapsed": false
   }
  },
  {
   "cell_type": "code",
   "execution_count": 1,
   "metadata": {
    "ExecuteTime": {
     "end_time": "2023-10-26T07:54:24.915023Z",
     "start_time": "2023-10-26T07:54:22.306100Z"
    }
   },
   "outputs": [],
   "source": [
    "# imports\n",
    "import numpy as np\n",
    "from tueplots import bundles, figsizes\n",
    "import wandb\n",
    "import matplotlib.pyplot as plt\n",
    "import matplotlib.lines as mlines\n",
    "import pandas as pd\n",
    "\n",
    "\n",
    "import sys\n",
    "\n",
    "%load_ext autoreload\n",
    "%autoreload 2\n",
    "\n",
    "sys.path.insert(0, '.')"
   ]
  },
  {
   "cell_type": "code",
   "execution_count": 2,
   "outputs": [],
   "source": [
    "from analysis import sweep2df, plot_typography, stats2string\n"
   ],
   "metadata": {
    "collapsed": false,
    "ExecuteTime": {
     "end_time": "2023-10-26T07:54:24.964406Z",
     "start_time": "2023-10-26T07:54:24.915669Z"
    }
   }
  },
  {
   "cell_type": "code",
   "execution_count": 3,
   "outputs": [],
   "source": [
    "USETEX = True"
   ],
   "metadata": {
    "collapsed": false,
    "ExecuteTime": {
     "end_time": "2023-10-26T07:54:24.985851Z",
     "start_time": "2023-10-26T07:54:24.955682Z"
    }
   }
  },
  {
   "cell_type": "code",
   "execution_count": 4,
   "outputs": [],
   "source": [
    "plt.rcParams.update(bundles.neurips2022(usetex=USETEX))\n",
    "# plt.rcParams.update({\n",
    "#     'text.latex.preamble': [r'\\usepackage{amsfonts}', # mathbb\n",
    "#                             r'\\usepackage{amsmath}'] # boldsymbol\n",
    "# })"
   ],
   "metadata": {
    "collapsed": false,
    "ExecuteTime": {
     "end_time": "2023-10-26T07:54:25.022115Z",
     "start_time": "2023-10-26T07:54:24.990923Z"
    }
   }
  },
  {
   "cell_type": "code",
   "execution_count": 5,
   "outputs": [],
   "source": [
    "plot_typography(usetex=USETEX, small=12, medium=16, big=20)"
   ],
   "metadata": {
    "collapsed": false,
    "ExecuteTime": {
     "end_time": "2023-10-26T07:54:25.066300Z",
     "start_time": "2023-10-26T07:54:25.029978Z"
    }
   }
  },
  {
   "cell_type": "code",
   "execution_count": 6,
   "metadata": {
    "ExecuteTime": {
     "end_time": "2023-10-26T07:54:25.343364Z",
     "start_time": "2023-10-26T07:54:25.059086Z"
    }
   },
   "outputs": [],
   "source": [
    "# Constants\n",
    "ENTITY = \"causal-representation-learning\"\n",
    "PROJECT = \"lti-ica\"\n",
    "\n",
    "# W&B API\n",
    "api = wandb.Api(timeout=200)\n",
    "runs = api.runs(ENTITY + \"/\" + PROJECT)"
   ]
  },
  {
   "cell_type": "markdown",
   "source": [
    "# Data loading"
   ],
   "metadata": {
    "collapsed": false
   }
  },
  {
   "cell_type": "markdown",
   "source": [
    "## Max variability"
   ],
   "metadata": {
    "collapsed": false
   }
  },
  {
   "cell_type": "code",
   "execution_count": 7,
   "outputs": [
    {
     "name": "stdout",
     "output_type": "stream",
     "text": [
      "\t Loading max_var_6u3mgtpz...\n"
     ]
    }
   ],
   "source": [
    "SWEEP_ID = \"6u3mgtpz\"\n",
    "sweep = api.sweep(f\"{ENTITY}/{PROJECT}/{SWEEP_ID}\")\n",
    "filename = f\"max_var_{SWEEP_ID}\"\n",
    "df_max_var, train_log_likelihood_max_var, train_mcc_max_var, val_log_likelihood_max_var, val_mcc_max_var = sweep2df(sweep.runs, filename, save=True, load=True)"
   ],
   "metadata": {
    "collapsed": false,
    "ExecuteTime": {
     "end_time": "2023-10-26T07:54:26.307782Z",
     "start_time": "2023-10-26T07:54:25.348274Z"
    }
   }
  },
  {
   "cell_type": "markdown",
   "source": [
    "### Max variability 10 dimensions"
   ],
   "metadata": {
    "collapsed": false
   }
  },
  {
   "cell_type": "code",
   "execution_count": 8,
   "outputs": [],
   "source": [
    "SWEEP_ID = \"woiubqya\"\n",
    "sweep = api.sweep(f\"{ENTITY}/{PROJECT}/{SWEEP_ID}\")\n",
    "filename = f\"max_var_10_{SWEEP_ID}\"\n",
    "df_max_var_10, train_log_likelihood_max_var_10, train_mcc_max_var_10, val_log_likelihood_max_var_10, val_mcc_max_var_10 = sweep2df(sweep.runs, filename, save=True, load=False)"
   ],
   "metadata": {
    "collapsed": false,
    "ExecuteTime": {
     "end_time": "2023-10-26T07:54:35.533524Z",
     "start_time": "2023-10-26T07:54:26.307112Z"
    }
   }
  },
  {
   "cell_type": "markdown",
   "source": [
    "### Rerun for 8 dimensions"
   ],
   "metadata": {
    "collapsed": false
   }
  },
  {
   "cell_type": "code",
   "execution_count": 9,
   "outputs": [
    {
     "name": "stdout",
     "output_type": "stream",
     "text": [
      "\t Loading max_var_8_f2n0z65l...\n"
     ]
    }
   ],
   "source": [
    "SWEEP_ID = \"f2n0z65l\"\n",
    "sweep = api.sweep(f\"{ENTITY}/{PROJECT}/{SWEEP_ID}\")\n",
    "filename = f\"max_var_8_{SWEEP_ID}\"\n",
    "df_max_var_8, train_log_likelihood_max_var_8, train_mcc_max_var_8, val_log_likelihood_max_var_8, val_mcc_max_var_8 = sweep2df(sweep.runs, filename, save=True, load=True)"
   ],
   "metadata": {
    "collapsed": false,
    "ExecuteTime": {
     "end_time": "2023-10-26T07:54:35.729874Z",
     "start_time": "2023-10-26T07:54:35.534534Z"
    }
   }
  },
  {
   "cell_type": "markdown",
   "source": [
    "### Concatenate"
   ],
   "metadata": {
    "collapsed": false
   }
  },
  {
   "cell_type": "code",
   "execution_count": 10,
   "outputs": [],
   "source": [
    "df_max_var_concat = pd.concat([df_max_var, df_max_var_8, df_max_var_10])"
   ],
   "metadata": {
    "collapsed": false,
    "ExecuteTime": {
     "end_time": "2023-10-26T07:54:35.796363Z",
     "start_time": "2023-10-26T07:54:35.727396Z"
    }
   }
  },
  {
   "cell_type": "code",
   "execution_count": 11,
   "outputs": [
    {
     "data": {
      "text/plain": "                                 train_mcc  max_train_mcc   val_mcc  \\\nnum_comp zero_means use_B use_C                                       \n2        False      True  True    0.967982       0.987145  0.863717   \n3        False      True  True    0.999989       0.999995  0.997175   \n5        False      True  True    0.995257       0.997676  0.824089   \n8        False      True  True    0.976543       0.983045  0.435802   \n10       False      True  True    0.995729       0.996252  0.732558   \n\n                                 max_val_mcc  \nnum_comp zero_means use_B use_C               \n2        False      True  True      0.872004  \n3        False      True  True      0.999113  \n5        False      True  True      0.826335  \n8        False      True  True      0.435802  \n10       False      True  True      0.734933  ",
      "text/html": "<div>\n<style scoped>\n    .dataframe tbody tr th:only-of-type {\n        vertical-align: middle;\n    }\n\n    .dataframe tbody tr th {\n        vertical-align: top;\n    }\n\n    .dataframe thead th {\n        text-align: right;\n    }\n</style>\n<table border=\"1\" class=\"dataframe\">\n  <thead>\n    <tr style=\"text-align: right;\">\n      <th></th>\n      <th></th>\n      <th></th>\n      <th></th>\n      <th>train_mcc</th>\n      <th>max_train_mcc</th>\n      <th>val_mcc</th>\n      <th>max_val_mcc</th>\n    </tr>\n    <tr>\n      <th>num_comp</th>\n      <th>zero_means</th>\n      <th>use_B</th>\n      <th>use_C</th>\n      <th></th>\n      <th></th>\n      <th></th>\n      <th></th>\n    </tr>\n  </thead>\n  <tbody>\n    <tr>\n      <th>2</th>\n      <th>False</th>\n      <th>True</th>\n      <th>True</th>\n      <td>0.967982</td>\n      <td>0.987145</td>\n      <td>0.863717</td>\n      <td>0.872004</td>\n    </tr>\n    <tr>\n      <th>3</th>\n      <th>False</th>\n      <th>True</th>\n      <th>True</th>\n      <td>0.999989</td>\n      <td>0.999995</td>\n      <td>0.997175</td>\n      <td>0.999113</td>\n    </tr>\n    <tr>\n      <th>5</th>\n      <th>False</th>\n      <th>True</th>\n      <th>True</th>\n      <td>0.995257</td>\n      <td>0.997676</td>\n      <td>0.824089</td>\n      <td>0.826335</td>\n    </tr>\n    <tr>\n      <th>8</th>\n      <th>False</th>\n      <th>True</th>\n      <th>True</th>\n      <td>0.976543</td>\n      <td>0.983045</td>\n      <td>0.435802</td>\n      <td>0.435802</td>\n    </tr>\n    <tr>\n      <th>10</th>\n      <th>False</th>\n      <th>True</th>\n      <th>True</th>\n      <td>0.995729</td>\n      <td>0.996252</td>\n      <td>0.732558</td>\n      <td>0.734933</td>\n    </tr>\n  </tbody>\n</table>\n</div>"
     },
     "execution_count": 11,
     "metadata": {},
     "output_type": "execute_result"
    }
   ],
   "source": [
    "df_max_var_concat.groupby([\"num_comp\", \"zero_means\", \"use_B\", \"use_C\"]).mean()[[\"train_mcc\", \"max_train_mcc\", \"val_mcc\", \"max_val_mcc\"]]"
   ],
   "metadata": {
    "collapsed": false,
    "ExecuteTime": {
     "end_time": "2023-10-26T07:54:35.855830Z",
     "start_time": "2023-10-26T07:54:35.768042Z"
    }
   }
  },
  {
   "cell_type": "code",
   "execution_count": 12,
   "outputs": [],
   "source": [
    "df_max_var_concat_dict = {comp: df_max_var_concat[df_max_var_concat.num_comp == comp].groupby([\"num_comp\", \"zero_means\", \"use_B\", \"use_C\"]) for\n",
    " comp in sorted(df_max_var_concat.num_comp.unique())}"
   ],
   "metadata": {
    "collapsed": false,
    "ExecuteTime": {
     "end_time": "2023-10-26T07:54:35.886438Z",
     "start_time": "2023-10-26T07:54:35.837256Z"
    }
   }
  },
  {
   "cell_type": "code",
   "execution_count": 13,
   "outputs": [],
   "source": [
    "max_var_stats = [stats2string(df) for comp, df in df_max_var_concat_dict.items()]"
   ],
   "metadata": {
    "collapsed": false,
    "ExecuteTime": {
     "end_time": "2023-10-26T07:54:36.085925Z",
     "start_time": "2023-10-26T07:54:35.874014Z"
    }
   }
  },
  {
   "cell_type": "markdown",
   "source": [
    "## Minimal segments"
   ],
   "metadata": {
    "collapsed": false
   }
  },
  {
   "cell_type": "markdown",
   "source": [
    "### Original sweep"
   ],
   "metadata": {
    "collapsed": false
   }
  },
  {
   "cell_type": "code",
   "execution_count": 14,
   "outputs": [
    {
     "name": "stdout",
     "output_type": "stream",
     "text": [
      "\t Loading min_segment_shrjtedq...\n"
     ]
    }
   ],
   "source": [
    "SWEEP_ID =  \"shrjtedq\" #\"03w02539\"\n",
    "sweep = api.sweep(f\"{ENTITY}/{PROJECT}/{SWEEP_ID}\")\n",
    "filename = f\"min_segment_{SWEEP_ID}\"\n",
    "df_min_segment, train_log_likelihood_min_segment, train_mcc_min_segment, val_log_likelihood_min_segment, val_mcc_min_segment = sweep2df(sweep.runs, filename, save=True, load=True)"
   ],
   "metadata": {
    "collapsed": false,
    "ExecuteTime": {
     "end_time": "2023-10-26T07:54:36.188540Z",
     "start_time": "2023-10-26T07:54:35.944318Z"
    }
   }
  },
  {
   "cell_type": "markdown",
   "source": [
    "### Rerun for 8 and 10 dimensions"
   ],
   "metadata": {
    "collapsed": false
   }
  },
  {
   "cell_type": "code",
   "execution_count": 15,
   "outputs": [
    {
     "name": "stdout",
     "output_type": "stream",
     "text": [
      "\t Loading min_segment_8_10_dvn24tw0...\n"
     ]
    }
   ],
   "source": [
    "SWEEP_ID = \"dvn24tw0\"\n",
    "sweep = api.sweep(f\"{ENTITY}/{PROJECT}/{SWEEP_ID}\")\n",
    "filename = f\"min_segment_8_10_{SWEEP_ID}\"\n",
    "df_min_segment_8_10, train_log_likelihood_min_segment_8_10, train_mcc_min_segment_8_10, val_log_likelihood_min_segment_8_10, val_mcc_min_segment_8_10 = sweep2df(sweep.runs, filename, save=True, load=True)"
   ],
   "metadata": {
    "collapsed": false,
    "ExecuteTime": {
     "end_time": "2023-10-26T07:54:36.361979Z",
     "start_time": "2023-10-26T07:54:36.155487Z"
    }
   }
  },
  {
   "cell_type": "markdown",
   "source": [
    "### Missing 8-/10-dimensional runs"
   ],
   "metadata": {
    "collapsed": false
   }
  },
  {
   "cell_type": "code",
   "execution_count": 16,
   "outputs": [],
   "source": [
    "SWEEP_ID = \"msankgos\"\n",
    "sweep = api.sweep(f\"{ENTITY}/{PROJECT}/{SWEEP_ID}\")\n",
    "filename = f\"min_segment_10_missing_{SWEEP_ID}\"\n",
    "df_min_segment_8_10_missing, train_log_likelihood_min_segment_8_10_missing, train_mcc_min_segment_8_10_missing, val_log_likelihood_min_segment_8_10_missing, val_mcc_min_segment_8_10_missing = sweep2df(sweep.runs, filename, save=True, load=True)"
   ],
   "metadata": {
    "collapsed": false,
    "ExecuteTime": {
     "end_time": "2023-10-26T07:55:06.137240Z",
     "start_time": "2023-10-26T07:54:36.351615Z"
    }
   }
  },
  {
   "cell_type": "markdown",
   "source": [
    "### Missing 10-dimensional runs"
   ],
   "metadata": {
    "collapsed": false
   }
  },
  {
   "cell_type": "code",
   "execution_count": null,
   "outputs": [],
   "source": [
    "SWEEP_ID = \"v3bgbuna\"\n",
    "sweep = api.sweep(f\"{ENTITY}/{PROJECT}/{SWEEP_ID}\")\n",
    "filename = f\"min_segment_10_missing_{SWEEP_ID}\"\n",
    "df_min_segment_10_missing, train_log_likelihood_min_segment_10_missing, train_mcc_min_segment_10_missing, val_log_likelihood_min_segment_10_missing, val_mcc_min_segment_10_missing = sweep2df(sweep.runs, filename, save=True, load=True)"
   ],
   "metadata": {
    "collapsed": false,
    "is_executing": true,
    "ExecuteTime": {
     "start_time": "2023-10-26T07:55:06.142718Z"
    }
   }
  },
  {
   "cell_type": "markdown",
   "source": [
    "### Concatenate"
   ],
   "metadata": {
    "collapsed": false
   }
  },
  {
   "cell_type": "code",
   "execution_count": null,
   "outputs": [],
   "source": [
    "df_min_segment_concat = pd.concat([df_min_segment, df_min_segment_8_10, df_min_segment_8_10_missing, df_min_segment_10_missing])"
   ],
   "metadata": {
    "collapsed": false,
    "is_executing": true
   }
  },
  {
   "cell_type": "code",
   "execution_count": null,
   "outputs": [],
   "source": [
    "df_min_segment_concat.groupby([\"num_comp\", \"zero_means\", \"use_B\", \"use_C\"]).mean()[\n",
    "    [\"train_mcc\", \"max_train_mcc\", \"val_mcc\", \"max_val_mcc\"]]"
   ],
   "metadata": {
    "collapsed": false,
    "is_executing": true
   }
  },
  {
   "cell_type": "code",
   "execution_count": null,
   "outputs": [],
   "source": [
    "df_min_segment_concat_dict = {\n",
    "    comp: df_min_segment_concat[df_min_segment_concat.num_comp == comp].groupby([\"num_comp\", \"zero_means\", \"use_B\", \"use_C\"])\n",
    "    for\n",
    "    comp in sorted(df_min_segment_concat.num_comp.unique())}"
   ],
   "metadata": {
    "collapsed": false,
    "is_executing": true
   }
  },
  {
   "cell_type": "code",
   "execution_count": null,
   "outputs": [],
   "source": [
    "min_segment_stats = [stats2string(df) for comp, df in df_min_segment_concat_dict.items()]"
   ],
   "metadata": {
    "collapsed": false,
    "is_executing": true
   }
  },
  {
   "cell_type": "markdown",
   "source": [
    "# Render text for table"
   ],
   "metadata": {
    "collapsed": false
   }
  },
  {
   "cell_type": "code",
   "execution_count": null,
   "outputs": [],
   "source": [
    "all_stats = [\"\".join([\"-----\", str(comp),\"\\n\" , min_segment, max_var, \"\\n\"]) for comp, min_segment, max_var in zip(sorted(df_min_segment_concat.num_comp.unique()), min_segment_stats, max_var_stats)]"
   ],
   "metadata": {
    "collapsed": false,
    "is_executing": true
   }
  },
  {
   "cell_type": "code",
   "execution_count": null,
   "outputs": [],
   "source": [
    "print(\"\\n\".join(all_stats))"
   ],
   "metadata": {
    "collapsed": false,
    "is_executing": true
   }
  },
  {
   "cell_type": "code",
   "execution_count": null,
   "outputs": [],
   "source": [],
   "metadata": {
    "collapsed": false
   }
  }
 ],
 "metadata": {
  "kernelspec": {
   "display_name": "Python 3 (ipykernel)",
   "language": "python",
   "name": "python3"
  },
  "language_info": {
   "codemirror_mode": {
    "name": "ipython",
    "version": 3
   },
   "file_extension": ".py",
   "mimetype": "text/x-python",
   "name": "python",
   "nbconvert_exporter": "python",
   "pygments_lexer": "ipython3",
   "version": "3.9.6"
  }
 },
 "nbformat": 4,
 "nbformat_minor": 1
}
