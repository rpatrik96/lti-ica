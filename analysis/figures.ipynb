{
 "cells": [
  {
   "cell_type": "markdown",
   "source": [
    "# Imports"
   ],
   "metadata": {
    "collapsed": false
   }
  },
  {
   "cell_type": "code",
   "execution_count": 1,
   "metadata": {
    "ExecuteTime": {
     "end_time": "2023-10-28T05:20:12.437581Z",
     "start_time": "2023-10-28T05:20:01.323058Z"
    }
   },
   "outputs": [],
   "source": [
    "# imports\n",
    "import numpy as np\n",
    "from tueplots import bundles, figsizes\n",
    "import wandb\n",
    "import matplotlib.pyplot as plt\n",
    "import matplotlib.lines as mlines\n",
    "import pandas as pd\n",
    "\n",
    "\n",
    "import sys\n",
    "\n",
    "%load_ext autoreload\n",
    "%autoreload 2\n",
    "\n",
    "sys.path.insert(0, '.')"
   ]
  },
  {
   "cell_type": "code",
   "execution_count": 2,
   "outputs": [],
   "source": [
    "from analysis import sweep2df, plot_typography, stats2string\n"
   ],
   "metadata": {
    "collapsed": false,
    "ExecuteTime": {
     "end_time": "2023-10-28T05:20:12.531608Z",
     "start_time": "2023-10-28T05:20:12.446440Z"
    }
   }
  },
  {
   "cell_type": "code",
   "execution_count": 3,
   "outputs": [],
   "source": [
    "USETEX = True"
   ],
   "metadata": {
    "collapsed": false,
    "ExecuteTime": {
     "end_time": "2023-10-28T05:20:12.532779Z",
     "start_time": "2023-10-28T05:20:12.485510Z"
    }
   }
  },
  {
   "cell_type": "code",
   "execution_count": 4,
   "outputs": [],
   "source": [
    "plt.rcParams.update(bundles.neurips2022(usetex=USETEX))\n",
    "# plt.rcParams.update({\n",
    "#     'text.latex.preamble': [r'\\usepackage{amsfonts}', # mathbb\n",
    "#                             r'\\usepackage{amsmath}'] # boldsymbol\n",
    "# })"
   ],
   "metadata": {
    "collapsed": false,
    "ExecuteTime": {
     "end_time": "2023-10-28T05:20:12.533610Z",
     "start_time": "2023-10-28T05:20:12.502349Z"
    }
   }
  },
  {
   "cell_type": "code",
   "execution_count": 5,
   "outputs": [],
   "source": [
    "plot_typography(usetex=USETEX, small=12, medium=16, big=20)"
   ],
   "metadata": {
    "collapsed": false,
    "ExecuteTime": {
     "end_time": "2023-10-28T05:20:12.594789Z",
     "start_time": "2023-10-28T05:20:12.535793Z"
    }
   }
  },
  {
   "cell_type": "code",
   "execution_count": 6,
   "metadata": {
    "ExecuteTime": {
     "end_time": "2023-10-28T05:20:13.095748Z",
     "start_time": "2023-10-28T05:20:12.568036Z"
    }
   },
   "outputs": [],
   "source": [
    "# Constants\n",
    "ENTITY = \"causal-representation-learning\"\n",
    "PROJECT = \"lti-ica\"\n",
    "\n",
    "# W&B API\n",
    "api = wandb.Api(timeout=200)\n",
    "runs = api.runs(ENTITY + \"/\" + PROJECT)"
   ]
  },
  {
   "cell_type": "markdown",
   "source": [
    "# Data loading"
   ],
   "metadata": {
    "collapsed": false
   }
  },
  {
   "cell_type": "markdown",
   "source": [
    "## Max variability"
   ],
   "metadata": {
    "collapsed": false
   }
  },
  {
   "cell_type": "code",
   "execution_count": 7,
   "outputs": [
    {
     "name": "stdout",
     "output_type": "stream",
     "text": [
      "\t Loading max_var_6u3mgtpz...\n"
     ]
    }
   ],
   "source": [
    "SWEEP_ID = \"6u3mgtpz\"\n",
    "sweep = api.sweep(f\"{ENTITY}/{PROJECT}/{SWEEP_ID}\")\n",
    "filename = f\"max_var_{SWEEP_ID}\"\n",
    "df_max_var, train_log_likelihood_max_var, train_mcc_max_var, val_log_likelihood_max_var, val_mcc_max_var = sweep2df(sweep.runs, filename, save=True, load=True)"
   ],
   "metadata": {
    "collapsed": false,
    "ExecuteTime": {
     "end_time": "2023-10-28T05:20:13.272124Z",
     "start_time": "2023-10-28T05:20:13.032611Z"
    }
   }
  },
  {
   "cell_type": "markdown",
   "source": [
    "### Max variability 10 dimensions"
   ],
   "metadata": {
    "collapsed": false
   }
  },
  {
   "cell_type": "code",
   "execution_count": 8,
   "outputs": [],
   "source": [
    "SWEEP_ID = \"woiubqya\"\n",
    "sweep = api.sweep(f\"{ENTITY}/{PROJECT}/{SWEEP_ID}\")\n",
    "filename = f\"max_var_10_{SWEEP_ID}\"\n",
    "df_max_var_10, train_log_likelihood_max_var_10, train_mcc_max_var_10, val_log_likelihood_max_var_10, val_mcc_max_var_10 = sweep2df(sweep.runs, filename, save=True, load=False)"
   ],
   "metadata": {
    "collapsed": false,
    "ExecuteTime": {
     "end_time": "2023-10-28T05:20:23.668833Z",
     "start_time": "2023-10-28T05:20:13.267433Z"
    }
   }
  },
  {
   "cell_type": "markdown",
   "source": [
    "### Rerun for 8 dimensions"
   ],
   "metadata": {
    "collapsed": false
   }
  },
  {
   "cell_type": "code",
   "execution_count": 9,
   "outputs": [
    {
     "name": "stdout",
     "output_type": "stream",
     "text": [
      "\t Loading max_var_8_f2n0z65l...\n"
     ]
    }
   ],
   "source": [
    "SWEEP_ID = \"f2n0z65l\"\n",
    "sweep = api.sweep(f\"{ENTITY}/{PROJECT}/{SWEEP_ID}\")\n",
    "filename = f\"max_var_8_{SWEEP_ID}\"\n",
    "df_max_var_8, train_log_likelihood_max_var_8, train_mcc_max_var_8, val_log_likelihood_max_var_8, val_mcc_max_var_8 = sweep2df(sweep.runs, filename, save=True, load=True)"
   ],
   "metadata": {
    "collapsed": false,
    "ExecuteTime": {
     "end_time": "2023-10-28T05:20:23.879289Z",
     "start_time": "2023-10-28T05:20:23.669625Z"
    }
   }
  },
  {
   "cell_type": "markdown",
   "source": [
    "### Concatenate"
   ],
   "metadata": {
    "collapsed": false
   }
  },
  {
   "cell_type": "code",
   "execution_count": 10,
   "outputs": [],
   "source": [
    "df_max_var_concat = pd.concat([df_max_var, df_max_var_8, df_max_var_10])"
   ],
   "metadata": {
    "collapsed": false,
    "ExecuteTime": {
     "end_time": "2023-10-28T05:20:23.957966Z",
     "start_time": "2023-10-28T05:20:23.878443Z"
    }
   }
  },
  {
   "cell_type": "code",
   "execution_count": 11,
   "outputs": [
    {
     "data": {
      "text/plain": "                                 train_mcc  max_train_mcc   val_mcc  \\\nnum_comp zero_means use_B use_C                                       \n2        False      True  True    0.967982       0.987145  0.863717   \n3        False      True  True    0.999989       0.999995  0.997175   \n5        False      True  True    0.995257       0.997676  0.824089   \n8        False      True  True    0.976543       0.983045  0.435802   \n10       False      True  True    0.995729       0.996703  0.732558   \n\n                                 max_val_mcc  \nnum_comp zero_means use_B use_C               \n2        False      True  True      0.872004  \n3        False      True  True      0.999113  \n5        False      True  True      0.826335  \n8        False      True  True      0.435802  \n10       False      True  True      0.734933  ",
      "text/html": "<div>\n<style scoped>\n    .dataframe tbody tr th:only-of-type {\n        vertical-align: middle;\n    }\n\n    .dataframe tbody tr th {\n        vertical-align: top;\n    }\n\n    .dataframe thead th {\n        text-align: right;\n    }\n</style>\n<table border=\"1\" class=\"dataframe\">\n  <thead>\n    <tr style=\"text-align: right;\">\n      <th></th>\n      <th></th>\n      <th></th>\n      <th></th>\n      <th>train_mcc</th>\n      <th>max_train_mcc</th>\n      <th>val_mcc</th>\n      <th>max_val_mcc</th>\n    </tr>\n    <tr>\n      <th>num_comp</th>\n      <th>zero_means</th>\n      <th>use_B</th>\n      <th>use_C</th>\n      <th></th>\n      <th></th>\n      <th></th>\n      <th></th>\n    </tr>\n  </thead>\n  <tbody>\n    <tr>\n      <th>2</th>\n      <th>False</th>\n      <th>True</th>\n      <th>True</th>\n      <td>0.967982</td>\n      <td>0.987145</td>\n      <td>0.863717</td>\n      <td>0.872004</td>\n    </tr>\n    <tr>\n      <th>3</th>\n      <th>False</th>\n      <th>True</th>\n      <th>True</th>\n      <td>0.999989</td>\n      <td>0.999995</td>\n      <td>0.997175</td>\n      <td>0.999113</td>\n    </tr>\n    <tr>\n      <th>5</th>\n      <th>False</th>\n      <th>True</th>\n      <th>True</th>\n      <td>0.995257</td>\n      <td>0.997676</td>\n      <td>0.824089</td>\n      <td>0.826335</td>\n    </tr>\n    <tr>\n      <th>8</th>\n      <th>False</th>\n      <th>True</th>\n      <th>True</th>\n      <td>0.976543</td>\n      <td>0.983045</td>\n      <td>0.435802</td>\n      <td>0.435802</td>\n    </tr>\n    <tr>\n      <th>10</th>\n      <th>False</th>\n      <th>True</th>\n      <th>True</th>\n      <td>0.995729</td>\n      <td>0.996703</td>\n      <td>0.732558</td>\n      <td>0.734933</td>\n    </tr>\n  </tbody>\n</table>\n</div>"
     },
     "execution_count": 11,
     "metadata": {},
     "output_type": "execute_result"
    }
   ],
   "source": [
    "df_max_var_concat.groupby([\"num_comp\", \"zero_means\", \"use_B\", \"use_C\"]).mean()[[\"train_mcc\", \"max_train_mcc\", \"val_mcc\", \"max_val_mcc\"]]"
   ],
   "metadata": {
    "collapsed": false,
    "ExecuteTime": {
     "end_time": "2023-10-28T05:20:24.043585Z",
     "start_time": "2023-10-28T05:20:23.917879Z"
    }
   }
  },
  {
   "cell_type": "code",
   "execution_count": 12,
   "outputs": [],
   "source": [
    "df_max_var_concat_dict = {comp: df_max_var_concat[df_max_var_concat.num_comp == comp].groupby([\"num_comp\", \"zero_means\", \"use_B\", \"use_C\"]) for\n",
    " comp in sorted(df_max_var_concat.num_comp.unique())}"
   ],
   "metadata": {
    "collapsed": false,
    "ExecuteTime": {
     "end_time": "2023-10-28T05:20:24.045006Z",
     "start_time": "2023-10-28T05:20:23.999739Z"
    }
   }
  },
  {
   "cell_type": "code",
   "execution_count": 13,
   "outputs": [],
   "source": [
    "max_var_stats = [stats2string(df) for comp, df in df_max_var_concat_dict.items()]"
   ],
   "metadata": {
    "collapsed": false,
    "ExecuteTime": {
     "end_time": "2023-10-28T05:20:24.124898Z",
     "start_time": "2023-10-28T05:20:24.044612Z"
    }
   }
  },
  {
   "cell_type": "markdown",
   "source": [
    "## Minimal segments"
   ],
   "metadata": {
    "collapsed": false
   }
  },
  {
   "cell_type": "markdown",
   "source": [
    "### Original sweep"
   ],
   "metadata": {
    "collapsed": false
   }
  },
  {
   "cell_type": "code",
   "execution_count": 14,
   "outputs": [
    {
     "name": "stdout",
     "output_type": "stream",
     "text": [
      "\t Loading min_segment_shrjtedq...\n"
     ]
    }
   ],
   "source": [
    "SWEEP_ID =  \"shrjtedq\" #\"03w02539\"\n",
    "sweep = api.sweep(f\"{ENTITY}/{PROJECT}/{SWEEP_ID}\")\n",
    "filename = f\"min_segment_{SWEEP_ID}\"\n",
    "df_min_segment, train_log_likelihood_min_segment, train_mcc_min_segment, val_log_likelihood_min_segment, val_mcc_min_segment = sweep2df(sweep.runs, filename, save=True, load=True)"
   ],
   "metadata": {
    "collapsed": false,
    "ExecuteTime": {
     "end_time": "2023-10-28T05:20:24.444435Z",
     "start_time": "2023-10-28T05:20:24.114111Z"
    }
   }
  },
  {
   "cell_type": "markdown",
   "source": [
    "### Rerun for 8 and 10 dimensions"
   ],
   "metadata": {
    "collapsed": false
   }
  },
  {
   "cell_type": "code",
   "execution_count": 15,
   "outputs": [
    {
     "name": "stdout",
     "output_type": "stream",
     "text": [
      "\t Loading min_segment_8_10_dvn24tw0...\n"
     ]
    }
   ],
   "source": [
    "SWEEP_ID = \"dvn24tw0\"\n",
    "sweep = api.sweep(f\"{ENTITY}/{PROJECT}/{SWEEP_ID}\")\n",
    "filename = f\"min_segment_8_10_{SWEEP_ID}\"\n",
    "df_min_segment_8_10, train_log_likelihood_min_segment_8_10, train_mcc_min_segment_8_10, val_log_likelihood_min_segment_8_10, val_mcc_min_segment_8_10 = sweep2df(sweep.runs, filename, save=True, load=True)"
   ],
   "metadata": {
    "collapsed": false,
    "ExecuteTime": {
     "end_time": "2023-10-28T05:20:24.954230Z",
     "start_time": "2023-10-28T05:20:24.326794Z"
    }
   }
  },
  {
   "cell_type": "markdown",
   "source": [
    "### Missing 8-/10-dimensional runs"
   ],
   "metadata": {
    "collapsed": false
   }
  },
  {
   "cell_type": "code",
   "execution_count": 16,
   "outputs": [
    {
     "name": "stdout",
     "output_type": "stream",
     "text": [
      "\t Loading min_segment_10_missing_msankgos...\n"
     ]
    }
   ],
   "source": [
    "SWEEP_ID = \"msankgos\"\n",
    "sweep = api.sweep(f\"{ENTITY}/{PROJECT}/{SWEEP_ID}\")\n",
    "filename = f\"min_segment_10_missing_{SWEEP_ID}\"\n",
    "df_min_segment_8_10_missing, train_log_likelihood_min_segment_8_10_missing, train_mcc_min_segment_8_10_missing, val_log_likelihood_min_segment_8_10_missing, val_mcc_min_segment_8_10_missing = sweep2df(sweep.runs, filename, save=True, load=True)"
   ],
   "metadata": {
    "collapsed": false,
    "ExecuteTime": {
     "end_time": "2023-10-28T05:20:24.955445Z",
     "start_time": "2023-10-28T05:20:24.541396Z"
    }
   }
  },
  {
   "cell_type": "markdown",
   "source": [
    "### Missing 10-dimensional runs"
   ],
   "metadata": {
    "collapsed": false
   }
  },
  {
   "cell_type": "code",
   "execution_count": 17,
   "outputs": [
    {
     "name": "stdout",
     "output_type": "stream",
     "text": [
      "\t Loading min_segment_10_missing_v3bgbuna...\n"
     ]
    }
   ],
   "source": [
    "SWEEP_ID = \"v3bgbuna\"\n",
    "sweep = api.sweep(f\"{ENTITY}/{PROJECT}/{SWEEP_ID}\")\n",
    "filename = f\"min_segment_10_missing_{SWEEP_ID}\"\n",
    "df_min_segment_10_missing, train_log_likelihood_min_segment_10_missing, train_mcc_min_segment_10_missing, val_log_likelihood_min_segment_10_missing, val_mcc_min_segment_10_missing = sweep2df(sweep.runs, filename, save=True, load=True)"
   ],
   "metadata": {
    "collapsed": false,
    "ExecuteTime": {
     "end_time": "2023-10-28T05:20:25.048467Z",
     "start_time": "2023-10-28T05:20:24.748402Z"
    }
   }
  },
  {
   "cell_type": "markdown",
   "source": [
    "### Concatenate"
   ],
   "metadata": {
    "collapsed": false
   }
  },
  {
   "cell_type": "code",
   "execution_count": 18,
   "outputs": [],
   "source": [
    "df_min_segment_concat = pd.concat([df_min_segment, df_min_segment_8_10, df_min_segment_8_10_missing, df_min_segment_10_missing])"
   ],
   "metadata": {
    "collapsed": false,
    "ExecuteTime": {
     "end_time": "2023-10-28T05:20:25.084070Z",
     "start_time": "2023-10-28T05:20:24.943807Z"
    }
   }
  },
  {
   "cell_type": "code",
   "execution_count": 19,
   "outputs": [
    {
     "data": {
      "text/plain": "                                 train_mcc  max_train_mcc   val_mcc  \\\nnum_comp zero_means use_B use_C                                       \n2        False      False False   0.866319       0.911332  0.582510   \n                          True    0.766681       0.820678  0.511342   \n                    True  False   0.729862       0.826553  0.516959   \n                          True    0.697367       0.888114  0.596271   \n         True       False False   0.632901       0.847892  0.619947   \n                          True    0.674872       0.830931  0.680293   \n                    True  False   0.734144       0.842189  0.693170   \n                          True    0.725062       0.875474  0.732886   \n3        False      False False   0.900751       0.941721  0.741451   \n                          True    0.910463       0.941608  0.748249   \n                    True  False   0.916051       0.950179  0.807421   \n                          True    0.861379       0.911330  0.791572   \n         True       False False   0.659496       0.784489  0.633083   \n                          True    0.618180       0.768632  0.617080   \n                    True  False   0.632505       0.773181  0.603016   \n                          True    0.666946       0.804523  0.665514   \n5        False      False False   0.891506       0.931900  0.779311   \n                          True    0.929386       0.945945  0.804987   \n                    True  False   0.927742       0.948141  0.814139   \n                          True    0.911213       0.932335  0.744684   \n         True       False False   0.657129       0.773772  0.625975   \n                          True    0.618422       0.720925  0.581564   \n                    True  False   0.620276       0.721762  0.586690   \n                          True    0.538554       0.677165  0.480110   \n8        False      False False   0.942748       0.957206  0.822469   \n                          True    0.939953       0.954366  0.797645   \n                    True  False   0.940633       0.952825  0.814091   \n                          True    0.867468       0.900000  0.663012   \n         True       False False   0.584651       0.696241  0.559864   \n                          True    0.478749       0.636816  0.469697   \n                    True  False   0.522868       0.601093  0.466580   \n                          True    0.414496       0.569481  0.423880   \n10       False      False False   0.939174       0.956160  0.816390   \n                          True    0.914905       0.943731  0.794419   \n                    True  False   0.924568       0.942800  0.771674   \n                          True    0.923524       0.937134  0.780607   \n         True       False False   0.708348       0.729501  0.634984   \n                          True    0.610552       0.610689  0.490601   \n                    True  False   0.604052       0.633980  0.498515   \n                          True    0.524988       0.608437  0.444232   \n\n                                 max_val_mcc  \nnum_comp zero_means use_B use_C               \n2        False      False False     0.619459  \n                          True      0.524911  \n                    True  False     0.553255  \n                          True      0.629053  \n         True       False False     0.667954  \n                          True      0.717334  \n                    True  False     0.708631  \n                          True      0.753187  \n3        False      False False     0.747056  \n                          True      0.760785  \n                    True  False     0.822710  \n                          True      0.792605  \n         True       False False     0.712398  \n                          True      0.623745  \n                    True  False     0.646789  \n                          True      0.696059  \n5        False      False False     0.783789  \n                          True      0.805552  \n                    True  False     0.814934  \n                          True      0.747111  \n         True       False False     0.654807  \n                          True      0.608449  \n                    True  False     0.614594  \n                          True      0.597913  \n8        False      False False     0.822888  \n                          True      0.798323  \n                    True  False     0.814647  \n                          True      0.663998  \n         True       False False     0.631025  \n                          True      0.523258  \n                    True  False     0.508819  \n                          True      0.484859  \n10       False      False False     0.816777  \n                          True      0.794419  \n                    True  False     0.771854  \n                          True      0.781487  \n         True       False False     0.648077  \n                          True      0.522007  \n                    True  False     0.525531  \n                          True      0.537998  ",
      "text/html": "<div>\n<style scoped>\n    .dataframe tbody tr th:only-of-type {\n        vertical-align: middle;\n    }\n\n    .dataframe tbody tr th {\n        vertical-align: top;\n    }\n\n    .dataframe thead th {\n        text-align: right;\n    }\n</style>\n<table border=\"1\" class=\"dataframe\">\n  <thead>\n    <tr style=\"text-align: right;\">\n      <th></th>\n      <th></th>\n      <th></th>\n      <th></th>\n      <th>train_mcc</th>\n      <th>max_train_mcc</th>\n      <th>val_mcc</th>\n      <th>max_val_mcc</th>\n    </tr>\n    <tr>\n      <th>num_comp</th>\n      <th>zero_means</th>\n      <th>use_B</th>\n      <th>use_C</th>\n      <th></th>\n      <th></th>\n      <th></th>\n      <th></th>\n    </tr>\n  </thead>\n  <tbody>\n    <tr>\n      <th rowspan=\"8\" valign=\"top\">2</th>\n      <th rowspan=\"4\" valign=\"top\">False</th>\n      <th rowspan=\"2\" valign=\"top\">False</th>\n      <th>False</th>\n      <td>0.866319</td>\n      <td>0.911332</td>\n      <td>0.582510</td>\n      <td>0.619459</td>\n    </tr>\n    <tr>\n      <th>True</th>\n      <td>0.766681</td>\n      <td>0.820678</td>\n      <td>0.511342</td>\n      <td>0.524911</td>\n    </tr>\n    <tr>\n      <th rowspan=\"2\" valign=\"top\">True</th>\n      <th>False</th>\n      <td>0.729862</td>\n      <td>0.826553</td>\n      <td>0.516959</td>\n      <td>0.553255</td>\n    </tr>\n    <tr>\n      <th>True</th>\n      <td>0.697367</td>\n      <td>0.888114</td>\n      <td>0.596271</td>\n      <td>0.629053</td>\n    </tr>\n    <tr>\n      <th rowspan=\"4\" valign=\"top\">True</th>\n      <th rowspan=\"2\" valign=\"top\">False</th>\n      <th>False</th>\n      <td>0.632901</td>\n      <td>0.847892</td>\n      <td>0.619947</td>\n      <td>0.667954</td>\n    </tr>\n    <tr>\n      <th>True</th>\n      <td>0.674872</td>\n      <td>0.830931</td>\n      <td>0.680293</td>\n      <td>0.717334</td>\n    </tr>\n    <tr>\n      <th rowspan=\"2\" valign=\"top\">True</th>\n      <th>False</th>\n      <td>0.734144</td>\n      <td>0.842189</td>\n      <td>0.693170</td>\n      <td>0.708631</td>\n    </tr>\n    <tr>\n      <th>True</th>\n      <td>0.725062</td>\n      <td>0.875474</td>\n      <td>0.732886</td>\n      <td>0.753187</td>\n    </tr>\n    <tr>\n      <th rowspan=\"8\" valign=\"top\">3</th>\n      <th rowspan=\"4\" valign=\"top\">False</th>\n      <th rowspan=\"2\" valign=\"top\">False</th>\n      <th>False</th>\n      <td>0.900751</td>\n      <td>0.941721</td>\n      <td>0.741451</td>\n      <td>0.747056</td>\n    </tr>\n    <tr>\n      <th>True</th>\n      <td>0.910463</td>\n      <td>0.941608</td>\n      <td>0.748249</td>\n      <td>0.760785</td>\n    </tr>\n    <tr>\n      <th rowspan=\"2\" valign=\"top\">True</th>\n      <th>False</th>\n      <td>0.916051</td>\n      <td>0.950179</td>\n      <td>0.807421</td>\n      <td>0.822710</td>\n    </tr>\n    <tr>\n      <th>True</th>\n      <td>0.861379</td>\n      <td>0.911330</td>\n      <td>0.791572</td>\n      <td>0.792605</td>\n    </tr>\n    <tr>\n      <th rowspan=\"4\" valign=\"top\">True</th>\n      <th rowspan=\"2\" valign=\"top\">False</th>\n      <th>False</th>\n      <td>0.659496</td>\n      <td>0.784489</td>\n      <td>0.633083</td>\n      <td>0.712398</td>\n    </tr>\n    <tr>\n      <th>True</th>\n      <td>0.618180</td>\n      <td>0.768632</td>\n      <td>0.617080</td>\n      <td>0.623745</td>\n    </tr>\n    <tr>\n      <th rowspan=\"2\" valign=\"top\">True</th>\n      <th>False</th>\n      <td>0.632505</td>\n      <td>0.773181</td>\n      <td>0.603016</td>\n      <td>0.646789</td>\n    </tr>\n    <tr>\n      <th>True</th>\n      <td>0.666946</td>\n      <td>0.804523</td>\n      <td>0.665514</td>\n      <td>0.696059</td>\n    </tr>\n    <tr>\n      <th rowspan=\"8\" valign=\"top\">5</th>\n      <th rowspan=\"4\" valign=\"top\">False</th>\n      <th rowspan=\"2\" valign=\"top\">False</th>\n      <th>False</th>\n      <td>0.891506</td>\n      <td>0.931900</td>\n      <td>0.779311</td>\n      <td>0.783789</td>\n    </tr>\n    <tr>\n      <th>True</th>\n      <td>0.929386</td>\n      <td>0.945945</td>\n      <td>0.804987</td>\n      <td>0.805552</td>\n    </tr>\n    <tr>\n      <th rowspan=\"2\" valign=\"top\">True</th>\n      <th>False</th>\n      <td>0.927742</td>\n      <td>0.948141</td>\n      <td>0.814139</td>\n      <td>0.814934</td>\n    </tr>\n    <tr>\n      <th>True</th>\n      <td>0.911213</td>\n      <td>0.932335</td>\n      <td>0.744684</td>\n      <td>0.747111</td>\n    </tr>\n    <tr>\n      <th rowspan=\"4\" valign=\"top\">True</th>\n      <th rowspan=\"2\" valign=\"top\">False</th>\n      <th>False</th>\n      <td>0.657129</td>\n      <td>0.773772</td>\n      <td>0.625975</td>\n      <td>0.654807</td>\n    </tr>\n    <tr>\n      <th>True</th>\n      <td>0.618422</td>\n      <td>0.720925</td>\n      <td>0.581564</td>\n      <td>0.608449</td>\n    </tr>\n    <tr>\n      <th rowspan=\"2\" valign=\"top\">True</th>\n      <th>False</th>\n      <td>0.620276</td>\n      <td>0.721762</td>\n      <td>0.586690</td>\n      <td>0.614594</td>\n    </tr>\n    <tr>\n      <th>True</th>\n      <td>0.538554</td>\n      <td>0.677165</td>\n      <td>0.480110</td>\n      <td>0.597913</td>\n    </tr>\n    <tr>\n      <th rowspan=\"8\" valign=\"top\">8</th>\n      <th rowspan=\"4\" valign=\"top\">False</th>\n      <th rowspan=\"2\" valign=\"top\">False</th>\n      <th>False</th>\n      <td>0.942748</td>\n      <td>0.957206</td>\n      <td>0.822469</td>\n      <td>0.822888</td>\n    </tr>\n    <tr>\n      <th>True</th>\n      <td>0.939953</td>\n      <td>0.954366</td>\n      <td>0.797645</td>\n      <td>0.798323</td>\n    </tr>\n    <tr>\n      <th rowspan=\"2\" valign=\"top\">True</th>\n      <th>False</th>\n      <td>0.940633</td>\n      <td>0.952825</td>\n      <td>0.814091</td>\n      <td>0.814647</td>\n    </tr>\n    <tr>\n      <th>True</th>\n      <td>0.867468</td>\n      <td>0.900000</td>\n      <td>0.663012</td>\n      <td>0.663998</td>\n    </tr>\n    <tr>\n      <th rowspan=\"4\" valign=\"top\">True</th>\n      <th rowspan=\"2\" valign=\"top\">False</th>\n      <th>False</th>\n      <td>0.584651</td>\n      <td>0.696241</td>\n      <td>0.559864</td>\n      <td>0.631025</td>\n    </tr>\n    <tr>\n      <th>True</th>\n      <td>0.478749</td>\n      <td>0.636816</td>\n      <td>0.469697</td>\n      <td>0.523258</td>\n    </tr>\n    <tr>\n      <th rowspan=\"2\" valign=\"top\">True</th>\n      <th>False</th>\n      <td>0.522868</td>\n      <td>0.601093</td>\n      <td>0.466580</td>\n      <td>0.508819</td>\n    </tr>\n    <tr>\n      <th>True</th>\n      <td>0.414496</td>\n      <td>0.569481</td>\n      <td>0.423880</td>\n      <td>0.484859</td>\n    </tr>\n    <tr>\n      <th rowspan=\"8\" valign=\"top\">10</th>\n      <th rowspan=\"4\" valign=\"top\">False</th>\n      <th rowspan=\"2\" valign=\"top\">False</th>\n      <th>False</th>\n      <td>0.939174</td>\n      <td>0.956160</td>\n      <td>0.816390</td>\n      <td>0.816777</td>\n    </tr>\n    <tr>\n      <th>True</th>\n      <td>0.914905</td>\n      <td>0.943731</td>\n      <td>0.794419</td>\n      <td>0.794419</td>\n    </tr>\n    <tr>\n      <th rowspan=\"2\" valign=\"top\">True</th>\n      <th>False</th>\n      <td>0.924568</td>\n      <td>0.942800</td>\n      <td>0.771674</td>\n      <td>0.771854</td>\n    </tr>\n    <tr>\n      <th>True</th>\n      <td>0.923524</td>\n      <td>0.937134</td>\n      <td>0.780607</td>\n      <td>0.781487</td>\n    </tr>\n    <tr>\n      <th rowspan=\"4\" valign=\"top\">True</th>\n      <th rowspan=\"2\" valign=\"top\">False</th>\n      <th>False</th>\n      <td>0.708348</td>\n      <td>0.729501</td>\n      <td>0.634984</td>\n      <td>0.648077</td>\n    </tr>\n    <tr>\n      <th>True</th>\n      <td>0.610552</td>\n      <td>0.610689</td>\n      <td>0.490601</td>\n      <td>0.522007</td>\n    </tr>\n    <tr>\n      <th rowspan=\"2\" valign=\"top\">True</th>\n      <th>False</th>\n      <td>0.604052</td>\n      <td>0.633980</td>\n      <td>0.498515</td>\n      <td>0.525531</td>\n    </tr>\n    <tr>\n      <th>True</th>\n      <td>0.524988</td>\n      <td>0.608437</td>\n      <td>0.444232</td>\n      <td>0.537998</td>\n    </tr>\n  </tbody>\n</table>\n</div>"
     },
     "execution_count": 19,
     "metadata": {},
     "output_type": "execute_result"
    }
   ],
   "source": [
    "df_min_segment_concat.groupby([\"num_comp\", \"zero_means\", \"use_B\", \"use_C\"]).mean()[\n",
    "    [\"train_mcc\", \"max_train_mcc\", \"val_mcc\", \"max_val_mcc\"]]"
   ],
   "metadata": {
    "collapsed": false,
    "ExecuteTime": {
     "end_time": "2023-10-28T05:20:25.087163Z",
     "start_time": "2023-10-28T05:20:24.983636Z"
    }
   }
  },
  {
   "cell_type": "code",
   "execution_count": 20,
   "outputs": [],
   "source": [
    "df_min_segment_concat_dict = {\n",
    "    comp: df_min_segment_concat[df_min_segment_concat.num_comp == comp].groupby([\"num_comp\", \"zero_means\", \"use_B\", \"use_C\"])\n",
    "    for\n",
    "    comp in sorted(df_min_segment_concat.num_comp.unique())}"
   ],
   "metadata": {
    "collapsed": false,
    "ExecuteTime": {
     "end_time": "2023-10-28T05:20:25.122944Z",
     "start_time": "2023-10-28T05:20:25.037316Z"
    }
   }
  },
  {
   "cell_type": "code",
   "execution_count": 21,
   "outputs": [],
   "source": [
    "min_segment_stats = [stats2string(df) for comp, df in df_min_segment_concat_dict.items()]"
   ],
   "metadata": {
    "collapsed": false,
    "ExecuteTime": {
     "end_time": "2023-10-28T05:20:25.162790Z",
     "start_time": "2023-10-28T05:20:25.070225Z"
    }
   }
  },
  {
   "cell_type": "markdown",
   "source": [
    "## Noisy minimal segments"
   ],
   "metadata": {
    "collapsed": false
   }
  },
  {
   "cell_type": "code",
   "execution_count": 26,
   "outputs": [],
   "source": [
    "SWEEP_ID = \"7z5qkfsc\"\n",
    "sweep = api.sweep(f\"{ENTITY}/{PROJECT}/{SWEEP_ID}\")\n",
    "filename = f\"min_segment_noisy_{SWEEP_ID}\"\n",
    "df_min_segment_noisy, _, _, _, _ = sweep2df(sweep.runs, filename, save=True, load=False)"
   ],
   "metadata": {
    "collapsed": false,
    "ExecuteTime": {
     "end_time": "2023-10-28T05:24:36.715280Z",
     "start_time": "2023-10-28T05:24:16.059557Z"
    }
   }
  },
  {
   "cell_type": "code",
   "execution_count": 27,
   "outputs": [
    {
     "name": "stdout",
     "output_type": "stream",
     "text": [
      "Encountered a faulty run with ID giddy-sweep-61\n"
     ]
    }
   ],
   "source": [
    "SWEEP_ID = \"sofeoukf\"\n",
    "sweep = api.sweep(f\"{ENTITY}/{PROJECT}/{SWEEP_ID}\")\n",
    "filename = f\"min_segment_noisy_2_{SWEEP_ID}\"\n",
    "df_min_segment_noisy_2, _, _, _, _ = sweep2df(sweep.runs, filename, save=True, load=False)"
   ],
   "metadata": {
    "collapsed": false,
    "ExecuteTime": {
     "end_time": "2023-10-28T05:25:10.610486Z",
     "start_time": "2023-10-28T05:24:36.712703Z"
    }
   }
  },
  {
   "cell_type": "markdown",
   "source": [
    "### Concatenate"
   ],
   "metadata": {
    "collapsed": false
   }
  },
  {
   "cell_type": "code",
   "execution_count": 28,
   "outputs": [],
   "source": [
    "df_min_segment_noisy_concat = pd.concat([df_min_segment_noisy, df_min_segment_noisy_2])"
   ],
   "metadata": {
    "collapsed": false,
    "ExecuteTime": {
     "end_time": "2023-10-28T05:25:10.641213Z",
     "start_time": "2023-10-28T05:25:10.608826Z"
    }
   }
  },
  {
   "cell_type": "code",
   "execution_count": 29,
   "outputs": [
    {
     "data": {
      "text/plain": "                        train_mcc  max_train_mcc   val_mcc  max_val_mcc\nnum_comp obs_noise_var                                                 \n2        0.0000          0.626983       0.937836  0.583573     0.650213\n         0.0001          0.678600       0.820703  0.357806     0.447987\n         0.0100          0.643191       0.828288  0.220149     0.302239\n         0.1000          0.589576       0.685004  0.254984     0.288121\n         1.0000          0.624789       0.734137  0.270574     0.286497\n3        0.0000          0.885535       0.920315  0.793121     0.794341\n         0.0001          0.823440       0.856889  0.612885     0.618519\n         0.0100          0.718347       0.785630  0.459358     0.463463\n         0.1000          0.637453       0.724336  0.382442     0.386184\n         1.0000          0.795979       0.830876  0.371516     0.375448\n5        0.0000          0.871205       0.895451  0.600796     0.602921\n         0.0001          0.872600       0.914314  0.689591     0.691915\n         0.0100          0.820308       0.871127  0.546083     0.558202\n         0.1000          0.735815       0.866409  0.445435     0.447762\n         1.0000          0.731579       0.811700  0.407699     0.411572",
      "text/html": "<div>\n<style scoped>\n    .dataframe tbody tr th:only-of-type {\n        vertical-align: middle;\n    }\n\n    .dataframe tbody tr th {\n        vertical-align: top;\n    }\n\n    .dataframe thead th {\n        text-align: right;\n    }\n</style>\n<table border=\"1\" class=\"dataframe\">\n  <thead>\n    <tr style=\"text-align: right;\">\n      <th></th>\n      <th></th>\n      <th>train_mcc</th>\n      <th>max_train_mcc</th>\n      <th>val_mcc</th>\n      <th>max_val_mcc</th>\n    </tr>\n    <tr>\n      <th>num_comp</th>\n      <th>obs_noise_var</th>\n      <th></th>\n      <th></th>\n      <th></th>\n      <th></th>\n    </tr>\n  </thead>\n  <tbody>\n    <tr>\n      <th rowspan=\"5\" valign=\"top\">2</th>\n      <th>0.0000</th>\n      <td>0.626983</td>\n      <td>0.937836</td>\n      <td>0.583573</td>\n      <td>0.650213</td>\n    </tr>\n    <tr>\n      <th>0.0001</th>\n      <td>0.678600</td>\n      <td>0.820703</td>\n      <td>0.357806</td>\n      <td>0.447987</td>\n    </tr>\n    <tr>\n      <th>0.0100</th>\n      <td>0.643191</td>\n      <td>0.828288</td>\n      <td>0.220149</td>\n      <td>0.302239</td>\n    </tr>\n    <tr>\n      <th>0.1000</th>\n      <td>0.589576</td>\n      <td>0.685004</td>\n      <td>0.254984</td>\n      <td>0.288121</td>\n    </tr>\n    <tr>\n      <th>1.0000</th>\n      <td>0.624789</td>\n      <td>0.734137</td>\n      <td>0.270574</td>\n      <td>0.286497</td>\n    </tr>\n    <tr>\n      <th rowspan=\"5\" valign=\"top\">3</th>\n      <th>0.0000</th>\n      <td>0.885535</td>\n      <td>0.920315</td>\n      <td>0.793121</td>\n      <td>0.794341</td>\n    </tr>\n    <tr>\n      <th>0.0001</th>\n      <td>0.823440</td>\n      <td>0.856889</td>\n      <td>0.612885</td>\n      <td>0.618519</td>\n    </tr>\n    <tr>\n      <th>0.0100</th>\n      <td>0.718347</td>\n      <td>0.785630</td>\n      <td>0.459358</td>\n      <td>0.463463</td>\n    </tr>\n    <tr>\n      <th>0.1000</th>\n      <td>0.637453</td>\n      <td>0.724336</td>\n      <td>0.382442</td>\n      <td>0.386184</td>\n    </tr>\n    <tr>\n      <th>1.0000</th>\n      <td>0.795979</td>\n      <td>0.830876</td>\n      <td>0.371516</td>\n      <td>0.375448</td>\n    </tr>\n    <tr>\n      <th rowspan=\"5\" valign=\"top\">5</th>\n      <th>0.0000</th>\n      <td>0.871205</td>\n      <td>0.895451</td>\n      <td>0.600796</td>\n      <td>0.602921</td>\n    </tr>\n    <tr>\n      <th>0.0001</th>\n      <td>0.872600</td>\n      <td>0.914314</td>\n      <td>0.689591</td>\n      <td>0.691915</td>\n    </tr>\n    <tr>\n      <th>0.0100</th>\n      <td>0.820308</td>\n      <td>0.871127</td>\n      <td>0.546083</td>\n      <td>0.558202</td>\n    </tr>\n    <tr>\n      <th>0.1000</th>\n      <td>0.735815</td>\n      <td>0.866409</td>\n      <td>0.445435</td>\n      <td>0.447762</td>\n    </tr>\n    <tr>\n      <th>1.0000</th>\n      <td>0.731579</td>\n      <td>0.811700</td>\n      <td>0.407699</td>\n      <td>0.411572</td>\n    </tr>\n  </tbody>\n</table>\n</div>"
     },
     "execution_count": 29,
     "metadata": {},
     "output_type": "execute_result"
    }
   ],
   "source": [
    "df_min_segment_noisy_concat.groupby([\"num_comp\", \"obs_noise_var\"]).mean()[\n",
    "    [\"train_mcc\", \"max_train_mcc\", \"val_mcc\", \"max_val_mcc\"]]"
   ],
   "metadata": {
    "collapsed": false,
    "ExecuteTime": {
     "end_time": "2023-10-28T05:25:10.677103Z",
     "start_time": "2023-10-28T05:25:10.637876Z"
    }
   }
  },
  {
   "cell_type": "code",
   "execution_count": 32,
   "outputs": [],
   "source": [
    "df_min_segment_noisy_concat_dict = {\n",
    "    comp: df_min_segment_noisy_concat[df_min_segment_noisy_concat.num_comp == comp].groupby([\"num_comp\", \"obs_noise_var\"])\n",
    "    for\n",
    "    comp in sorted(df_min_segment_noisy_concat.num_comp.unique())}"
   ],
   "metadata": {
    "collapsed": false,
    "ExecuteTime": {
     "end_time": "2023-10-28T05:27:35.654789Z",
     "start_time": "2023-10-28T05:27:35.621147Z"
    }
   }
  },
  {
   "cell_type": "code",
   "execution_count": 33,
   "outputs": [],
   "source": [
    "min_segment_noisy_stats = [stats2string(df) for comp, df in df_min_segment_noisy_concat_dict.items()]"
   ],
   "metadata": {
    "collapsed": false,
    "ExecuteTime": {
     "end_time": "2023-10-28T05:27:45.450250Z",
     "start_time": "2023-10-28T05:27:45.398717Z"
    }
   }
  },
  {
   "cell_type": "markdown",
   "source": [
    "## Noisy DC Motor"
   ],
   "metadata": {
    "collapsed": false
   }
  },
  {
   "cell_type": "code",
   "execution_count": 39,
   "outputs": [],
   "source": [
    "SWEEP_ID = \"cun199xq\"\n",
    "sweep = api.sweep(f\"{ENTITY}/{PROJECT}/{SWEEP_ID}\")\n",
    "filename = f\"dc_motor_noisy_{SWEEP_ID}\"\n",
    "df_dc_motor_noisy, _, _, _, _ = sweep2df(sweep.runs, filename, save=True, load=False)"
   ],
   "metadata": {
    "collapsed": false,
    "ExecuteTime": {
     "end_time": "2023-10-28T06:05:54.267150Z",
     "start_time": "2023-10-28T06:04:21.295596Z"
    }
   }
  },
  {
   "cell_type": "code",
   "execution_count": 40,
   "outputs": [
    {
     "data": {
      "text/plain": "                          train_mcc  max_train_mcc   val_mcc  max_val_mcc\nzero_means obs_noise_var                                                 \nFalse      0.0000          0.675323       0.985218  0.339935     0.339935\n           0.0001          0.734127       0.981561  0.309478     0.309478\n           0.0010          0.734818       0.981520  0.311176     0.311176\n           0.0100          0.721763       0.979569  0.312112     0.312112\n           0.1000          0.666729       0.978148  0.312637     0.312637\nTrue       0.0000          0.786184       0.984692  0.854957     0.854957\n           0.0001          0.505593       0.934523  0.312036     0.312036\n           0.0010          0.702507       0.946142  0.311169     0.311169\n           0.0100          0.744299       0.911928  0.310335     0.310335\n           0.1000          0.679656       0.904735  0.309249     0.309249",
      "text/html": "<div>\n<style scoped>\n    .dataframe tbody tr th:only-of-type {\n        vertical-align: middle;\n    }\n\n    .dataframe tbody tr th {\n        vertical-align: top;\n    }\n\n    .dataframe thead th {\n        text-align: right;\n    }\n</style>\n<table border=\"1\" class=\"dataframe\">\n  <thead>\n    <tr style=\"text-align: right;\">\n      <th></th>\n      <th></th>\n      <th>train_mcc</th>\n      <th>max_train_mcc</th>\n      <th>val_mcc</th>\n      <th>max_val_mcc</th>\n    </tr>\n    <tr>\n      <th>zero_means</th>\n      <th>obs_noise_var</th>\n      <th></th>\n      <th></th>\n      <th></th>\n      <th></th>\n    </tr>\n  </thead>\n  <tbody>\n    <tr>\n      <th rowspan=\"5\" valign=\"top\">False</th>\n      <th>0.0000</th>\n      <td>0.675323</td>\n      <td>0.985218</td>\n      <td>0.339935</td>\n      <td>0.339935</td>\n    </tr>\n    <tr>\n      <th>0.0001</th>\n      <td>0.734127</td>\n      <td>0.981561</td>\n      <td>0.309478</td>\n      <td>0.309478</td>\n    </tr>\n    <tr>\n      <th>0.0010</th>\n      <td>0.734818</td>\n      <td>0.981520</td>\n      <td>0.311176</td>\n      <td>0.311176</td>\n    </tr>\n    <tr>\n      <th>0.0100</th>\n      <td>0.721763</td>\n      <td>0.979569</td>\n      <td>0.312112</td>\n      <td>0.312112</td>\n    </tr>\n    <tr>\n      <th>0.1000</th>\n      <td>0.666729</td>\n      <td>0.978148</td>\n      <td>0.312637</td>\n      <td>0.312637</td>\n    </tr>\n    <tr>\n      <th rowspan=\"5\" valign=\"top\">True</th>\n      <th>0.0000</th>\n      <td>0.786184</td>\n      <td>0.984692</td>\n      <td>0.854957</td>\n      <td>0.854957</td>\n    </tr>\n    <tr>\n      <th>0.0001</th>\n      <td>0.505593</td>\n      <td>0.934523</td>\n      <td>0.312036</td>\n      <td>0.312036</td>\n    </tr>\n    <tr>\n      <th>0.0010</th>\n      <td>0.702507</td>\n      <td>0.946142</td>\n      <td>0.311169</td>\n      <td>0.311169</td>\n    </tr>\n    <tr>\n      <th>0.0100</th>\n      <td>0.744299</td>\n      <td>0.911928</td>\n      <td>0.310335</td>\n      <td>0.310335</td>\n    </tr>\n    <tr>\n      <th>0.1000</th>\n      <td>0.679656</td>\n      <td>0.904735</td>\n      <td>0.309249</td>\n      <td>0.309249</td>\n    </tr>\n  </tbody>\n</table>\n</div>"
     },
     "execution_count": 40,
     "metadata": {},
     "output_type": "execute_result"
    }
   ],
   "source": [
    "df_dc_motor_noisy.groupby([\"zero_means\", \"obs_noise_var\"]).mean()[\n",
    "    [\"train_mcc\", \"max_train_mcc\", \"val_mcc\", \"max_val_mcc\"]]"
   ],
   "metadata": {
    "collapsed": false,
    "ExecuteTime": {
     "end_time": "2023-10-28T06:05:54.494345Z",
     "start_time": "2023-10-28T06:05:54.425872Z"
    }
   }
  },
  {
   "cell_type": "code",
   "execution_count": 41,
   "outputs": [],
   "source": [
    "df_dc_motor_noisy_dict = {\n",
    "    comp: df_dc_motor_noisy[df_dc_motor_noisy.num_comp == comp].groupby([\"zero_means\", \"obs_noise_var\"])\n",
    "    for\n",
    "    comp in sorted(df_dc_motor_noisy.num_comp.unique())}"
   ],
   "metadata": {
    "collapsed": false,
    "ExecuteTime": {
     "end_time": "2023-10-28T06:05:54.603916Z",
     "start_time": "2023-10-28T06:05:54.498077Z"
    }
   }
  },
  {
   "cell_type": "code",
   "execution_count": 42,
   "outputs": [],
   "source": [
    "dc_motor_noisy_stats = [stats2string(df) for comp, df in df_dc_motor_noisy_dict.items()]"
   ],
   "metadata": {
    "collapsed": false,
    "ExecuteTime": {
     "end_time": "2023-10-28T06:05:54.730103Z",
     "start_time": "2023-10-28T06:05:54.544768Z"
    }
   }
  },
  {
   "cell_type": "markdown",
   "source": [
    "# Render text for table"
   ],
   "metadata": {
    "collapsed": false
   }
  },
  {
   "cell_type": "code",
   "execution_count": null,
   "outputs": [],
   "source": [
    "all_stats = [\"\".join([\"-----\", str(comp),\"\\n\" , min_segment, max_var, \"\\n\"]) for comp, min_segment, max_var in zip(sorted(df_min_segment_concat.num_comp.unique()), min_segment_stats, max_var_stats)]"
   ],
   "metadata": {
    "collapsed": false
   }
  },
  {
   "cell_type": "code",
   "execution_count": null,
   "outputs": [],
   "source": [
    "print(\"\\n\".join(all_stats))"
   ],
   "metadata": {
    "collapsed": false
   }
  },
  {
   "cell_type": "markdown",
   "source": [
    "## Noisy stats"
   ],
   "metadata": {
    "collapsed": false
   }
  },
  {
   "cell_type": "code",
   "execution_count": 34,
   "outputs": [],
   "source": [
    "all_noisy_stats = [\"\".join([\"-----\", str(comp),\"\\n\" , min_segment_noisy, \"\\n\"]) for comp, min_segment_noisy in zip(sorted(df_min_segment_noisy_concat.num_comp.unique()), min_segment_noisy_stats)]"
   ],
   "metadata": {
    "collapsed": false,
    "ExecuteTime": {
     "end_time": "2023-10-28T05:28:57.582123Z",
     "start_time": "2023-10-28T05:28:57.555016Z"
    }
   }
  },
  {
   "cell_type": "code",
   "execution_count": 35,
   "outputs": [
    {
     "name": "stdout",
     "output_type": "stream",
     "text": [
      "-----2\n",
      "$0.627\\scriptscriptstyle\\pm nan$ & $0.679\\scriptscriptstyle\\pm 0.162$ & $0.643\\scriptscriptstyle\\pm 0.068$ & $0.590\\scriptscriptstyle\\pm 0.034$ & $0.625\\scriptscriptstyle\\pm 0.038$ & \n",
      "\n",
      "-----3\n",
      "$0.886\\scriptscriptstyle\\pm 0.057$ & $0.823\\scriptscriptstyle\\pm 0.052$ & $0.718\\scriptscriptstyle\\pm 0.168$ & $0.637\\scriptscriptstyle\\pm 0.194$ & $0.796\\scriptscriptstyle\\pm 0.022$ & \n",
      "\n",
      "-----5\n",
      "$0.871\\scriptscriptstyle\\pm nan$ & $0.873\\scriptscriptstyle\\pm nan$ & $0.820\\scriptscriptstyle\\pm 0.022$ & $0.736\\scriptscriptstyle\\pm nan$ & $0.732\\scriptscriptstyle\\pm 0.032$ & \n",
      "\n"
     ]
    }
   ],
   "source": [
    "print(\"\\n\".join(all_noisy_stats))"
   ],
   "metadata": {
    "collapsed": false,
    "ExecuteTime": {
     "end_time": "2023-10-28T05:29:03.132820Z",
     "start_time": "2023-10-28T05:29:03.102338Z"
    }
   }
  },
  {
   "cell_type": "markdown",
   "source": [
    "## DC motor noisy stats"
   ],
   "metadata": {
    "collapsed": false
   }
  },
  {
   "cell_type": "code",
   "execution_count": 43,
   "outputs": [],
   "source": [
    "all_dc_motor_noisy_stats = [\"\".join([\"-----\", str(comp),\"\\n\" , dc_motor_noisy, \"\\n\"]) for comp, dc_motor_noisy in zip(sorted(df_dc_motor_noisy.num_comp.unique()), dc_motor_noisy_stats)]"
   ],
   "metadata": {
    "collapsed": false,
    "ExecuteTime": {
     "end_time": "2023-10-28T06:06:18.520970Z",
     "start_time": "2023-10-28T06:06:18.498198Z"
    }
   }
  },
  {
   "cell_type": "code",
   "execution_count": 44,
   "outputs": [
    {
     "name": "stdout",
     "output_type": "stream",
     "text": [
      "-----2\n",
      "$0.675\\scriptscriptstyle\\pm 0.224$ & $0.734\\scriptscriptstyle\\pm 0.283$ & $0.735\\scriptscriptstyle\\pm 0.259$ & $0.722\\scriptscriptstyle\\pm 0.240$ & $0.667\\scriptscriptstyle\\pm 0.370$ & $0.786\\scriptscriptstyle\\pm 0.365$ & $0.506\\scriptscriptstyle\\pm 0.363$ & $0.703\\scriptscriptstyle\\pm 0.364$ & $0.744\\scriptscriptstyle\\pm 0.345$ & $0.680\\scriptscriptstyle\\pm 0.266$ & \n",
      "\n"
     ]
    }
   ],
   "source": [
    "print(\"\\n\".join(all_dc_motor_noisy_stats))"
   ],
   "metadata": {
    "collapsed": false,
    "ExecuteTime": {
     "end_time": "2023-10-28T06:06:20.468037Z",
     "start_time": "2023-10-28T06:06:20.433893Z"
    }
   }
  },
  {
   "cell_type": "code",
   "execution_count": null,
   "outputs": [],
   "source": [],
   "metadata": {
    "collapsed": false
   }
  }
 ],
 "metadata": {
  "kernelspec": {
   "display_name": "Python 3 (ipykernel)",
   "language": "python",
   "name": "python3"
  },
  "language_info": {
   "codemirror_mode": {
    "name": "ipython",
    "version": 3
   },
   "file_extension": ".py",
   "mimetype": "text/x-python",
   "name": "python",
   "nbconvert_exporter": "python",
   "pygments_lexer": "ipython3",
   "version": "3.9.6"
  }
 },
 "nbformat": 4,
 "nbformat_minor": 1
}
