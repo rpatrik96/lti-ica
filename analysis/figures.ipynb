{
 "cells": [
  {
   "cell_type": "markdown",
   "source": [
    "# Imports"
   ],
   "metadata": {
    "collapsed": false
   }
  },
  {
   "cell_type": "code",
   "execution_count": 64,
   "metadata": {
    "ExecuteTime": {
     "end_time": "2023-10-25T10:51:28.188831Z",
     "start_time": "2023-10-25T10:51:27.996640Z"
    }
   },
   "outputs": [
    {
     "name": "stdout",
     "output_type": "stream",
     "text": [
      "The autoreload extension is already loaded. To reload it, use:\n",
      "  %reload_ext autoreload\n"
     ]
    }
   ],
   "source": [
    "# imports\n",
    "import numpy as np\n",
    "from tueplots import bundles, figsizes\n",
    "import wandb\n",
    "import matplotlib.pyplot as plt\n",
    "import matplotlib.lines as mlines\n",
    "import pandas as pd\n",
    "\n",
    "\n",
    "import sys\n",
    "\n",
    "%load_ext autoreload\n",
    "%autoreload 2\n",
    "\n",
    "sys.path.insert(0, '.')"
   ]
  },
  {
   "cell_type": "code",
   "execution_count": 91,
   "outputs": [],
   "source": [
    "from analysis import sweep2df, plot_typography, stats2string\n"
   ],
   "metadata": {
    "collapsed": false,
    "ExecuteTime": {
     "end_time": "2023-10-25T11:03:31.913277Z",
     "start_time": "2023-10-25T11:03:31.791961Z"
    }
   }
  },
  {
   "cell_type": "code",
   "execution_count": 3,
   "outputs": [],
   "source": [
    "USETEX = True"
   ],
   "metadata": {
    "collapsed": false,
    "ExecuteTime": {
     "end_time": "2023-10-24T15:47:08.876948Z",
     "start_time": "2023-10-24T15:47:08.875091Z"
    }
   }
  },
  {
   "cell_type": "code",
   "execution_count": 4,
   "outputs": [],
   "source": [
    "plt.rcParams.update(bundles.neurips2022(usetex=USETEX))\n",
    "# plt.rcParams.update({\n",
    "#     'text.latex.preamble': [r'\\usepackage{amsfonts}', # mathbb\n",
    "#                             r'\\usepackage{amsmath}'] # boldsymbol\n",
    "# })"
   ],
   "metadata": {
    "collapsed": false,
    "ExecuteTime": {
     "end_time": "2023-10-24T15:47:08.895129Z",
     "start_time": "2023-10-24T15:47:08.875323Z"
    }
   }
  },
  {
   "cell_type": "code",
   "execution_count": 5,
   "outputs": [],
   "source": [
    "plot_typography(usetex=USETEX, small=12, medium=16, big=20)"
   ],
   "metadata": {
    "collapsed": false,
    "ExecuteTime": {
     "end_time": "2023-10-24T15:47:08.923890Z",
     "start_time": "2023-10-24T15:47:08.892840Z"
    }
   }
  },
  {
   "cell_type": "code",
   "execution_count": 6,
   "metadata": {
    "ExecuteTime": {
     "end_time": "2023-10-24T15:47:13.226481Z",
     "start_time": "2023-10-24T15:47:08.924859Z"
    }
   },
   "outputs": [],
   "source": [
    "# Constants\n",
    "ENTITY = \"causal-representation-learning\"\n",
    "PROJECT = \"lti-ica\"\n",
    "\n",
    "# W&B API\n",
    "api = wandb.Api(timeout=200)\n",
    "runs = api.runs(ENTITY + \"/\" + PROJECT)"
   ]
  },
  {
   "cell_type": "markdown",
   "source": [
    "# Data loading"
   ],
   "metadata": {
    "collapsed": false
   }
  },
  {
   "cell_type": "markdown",
   "source": [
    "## Max variability"
   ],
   "metadata": {
    "collapsed": false
   }
  },
  {
   "cell_type": "code",
   "execution_count": 7,
   "outputs": [],
   "source": [
    "SWEEP_ID = \"6u3mgtpz\"\n",
    "sweep = api.sweep(f\"{ENTITY}/{PROJECT}/{SWEEP_ID}\")\n",
    "filename = f\"max_var_{SWEEP_ID}\"\n",
    "df_max_var, train_log_likelihood_max_var, train_mcc_max_var, val_log_likelihood_max_var, val_mcc_max_var = sweep2df(sweep.runs, filename, save=True, load=True)"
   ],
   "metadata": {
    "collapsed": false,
    "ExecuteTime": {
     "end_time": "2023-10-24T15:48:38.786562Z",
     "start_time": "2023-10-24T15:47:13.228938Z"
    }
   }
  },
  {
   "cell_type": "markdown",
   "source": [
    "### Max variability 10 dimensions"
   ],
   "metadata": {
    "collapsed": false
   }
  },
  {
   "cell_type": "code",
   "execution_count": 11,
   "outputs": [],
   "source": [
    "SWEEP_ID = \"woiubqya\"\n",
    "sweep = api.sweep(f\"{ENTITY}/{PROJECT}/{SWEEP_ID}\")\n",
    "filename = f\"max_var_10_{SWEEP_ID}\"\n",
    "df_max_var_10, train_log_likelihood_max_var_10, train_mcc_max_var_10, val_log_likelihood_max_var_10, val_mcc_max_var_10 = sweep2df(sweep.runs, filename, save=True, load=False)"
   ],
   "metadata": {
    "collapsed": false,
    "ExecuteTime": {
     "end_time": "2023-10-24T15:49:04.004973Z",
     "start_time": "2023-10-24T15:48:38.935539Z"
    }
   }
  },
  {
   "cell_type": "markdown",
   "source": [
    "### Rerun for 8 dimensions"
   ],
   "metadata": {
    "collapsed": false
   }
  },
  {
   "cell_type": "code",
   "execution_count": 14,
   "outputs": [],
   "source": [
    "SWEEP_ID = \"f2n0z65l\"\n",
    "sweep = api.sweep(f\"{ENTITY}/{PROJECT}/{SWEEP_ID}\")\n",
    "filename = f\"max_var_8_{SWEEP_ID}\"\n",
    "df_max_var_8, train_log_likelihood_max_var_8, train_mcc_max_var_8, val_log_likelihood_max_var_8, val_mcc_max_var_8 = sweep2df(sweep.runs, filename, save=True, load=False)"
   ],
   "metadata": {
    "collapsed": false,
    "ExecuteTime": {
     "end_time": "2023-10-24T15:49:23.042818Z",
     "start_time": "2023-10-24T15:49:04.086051Z"
    }
   }
  },
  {
   "cell_type": "markdown",
   "source": [
    "### Concatenate"
   ],
   "metadata": {
    "collapsed": false
   }
  },
  {
   "cell_type": "code",
   "execution_count": 146,
   "outputs": [],
   "source": [
    "df_max_var_concat = pd.concat([df_max_var, df_max_var_8, df_max_var_10])"
   ],
   "metadata": {
    "collapsed": false,
    "ExecuteTime": {
     "end_time": "2023-10-25T11:15:51.254720Z",
     "start_time": "2023-10-25T11:15:51.206585Z"
    }
   }
  },
  {
   "cell_type": "code",
   "execution_count": 147,
   "outputs": [
    {
     "data": {
      "text/plain": "                                 train_mcc  max_train_mcc   val_mcc  \\\nnum_comp zero_means use_B use_C                                       \n2        False      True  True    0.967982       0.987145  0.863717   \n3        False      True  True    0.999989       0.999995  0.997175   \n5        False      True  True    0.995257       0.997676  0.824089   \n8        False      True  True    0.976543       0.983045  0.435802   \n10       False      True  True    0.995729       0.996371  0.732558   \n\n                                 max_val_mcc  \nnum_comp zero_means use_B use_C               \n2        False      True  True      0.872004  \n3        False      True  True      0.999113  \n5        False      True  True      0.826335  \n8        False      True  True      0.435802  \n10       False      True  True      0.734933  ",
      "text/html": "<div>\n<style scoped>\n    .dataframe tbody tr th:only-of-type {\n        vertical-align: middle;\n    }\n\n    .dataframe tbody tr th {\n        vertical-align: top;\n    }\n\n    .dataframe thead th {\n        text-align: right;\n    }\n</style>\n<table border=\"1\" class=\"dataframe\">\n  <thead>\n    <tr style=\"text-align: right;\">\n      <th></th>\n      <th></th>\n      <th></th>\n      <th></th>\n      <th>train_mcc</th>\n      <th>max_train_mcc</th>\n      <th>val_mcc</th>\n      <th>max_val_mcc</th>\n    </tr>\n    <tr>\n      <th>num_comp</th>\n      <th>zero_means</th>\n      <th>use_B</th>\n      <th>use_C</th>\n      <th></th>\n      <th></th>\n      <th></th>\n      <th></th>\n    </tr>\n  </thead>\n  <tbody>\n    <tr>\n      <th>2</th>\n      <th>False</th>\n      <th>True</th>\n      <th>True</th>\n      <td>0.967982</td>\n      <td>0.987145</td>\n      <td>0.863717</td>\n      <td>0.872004</td>\n    </tr>\n    <tr>\n      <th>3</th>\n      <th>False</th>\n      <th>True</th>\n      <th>True</th>\n      <td>0.999989</td>\n      <td>0.999995</td>\n      <td>0.997175</td>\n      <td>0.999113</td>\n    </tr>\n    <tr>\n      <th>5</th>\n      <th>False</th>\n      <th>True</th>\n      <th>True</th>\n      <td>0.995257</td>\n      <td>0.997676</td>\n      <td>0.824089</td>\n      <td>0.826335</td>\n    </tr>\n    <tr>\n      <th>8</th>\n      <th>False</th>\n      <th>True</th>\n      <th>True</th>\n      <td>0.976543</td>\n      <td>0.983045</td>\n      <td>0.435802</td>\n      <td>0.435802</td>\n    </tr>\n    <tr>\n      <th>10</th>\n      <th>False</th>\n      <th>True</th>\n      <th>True</th>\n      <td>0.995729</td>\n      <td>0.996371</td>\n      <td>0.732558</td>\n      <td>0.734933</td>\n    </tr>\n  </tbody>\n</table>\n</div>"
     },
     "execution_count": 147,
     "metadata": {},
     "output_type": "execute_result"
    }
   ],
   "source": [
    "df_max_var_concat.groupby([\"num_comp\", \"zero_means\", \"use_B\", \"use_C\"]).mean()[[\"train_mcc\", \"max_train_mcc\", \"val_mcc\", \"max_val_mcc\"]]"
   ],
   "metadata": {
    "collapsed": false,
    "ExecuteTime": {
     "end_time": "2023-10-25T11:15:52.013508Z",
     "start_time": "2023-10-25T11:15:51.932960Z"
    }
   }
  },
  {
   "cell_type": "code",
   "execution_count": 148,
   "outputs": [],
   "source": [
    "df_max_var_concat_dict = {comp: df_max_var_concat[df_max_var_concat.num_comp == comp].groupby([\"num_comp\", \"zero_means\", \"use_B\", \"use_C\"]) for\n",
    " comp in sorted(df_max_var_concat.num_comp.unique())}"
   ],
   "metadata": {
    "collapsed": false,
    "ExecuteTime": {
     "end_time": "2023-10-25T11:15:56.745517Z",
     "start_time": "2023-10-25T11:15:56.693985Z"
    }
   }
  },
  {
   "cell_type": "code",
   "execution_count": 149,
   "outputs": [],
   "source": [
    "max_var_stats = [stats2string(df) for comp, df in df_max_var_concat_dict.items()]"
   ],
   "metadata": {
    "collapsed": false,
    "ExecuteTime": {
     "end_time": "2023-10-25T11:16:01.713125Z",
     "start_time": "2023-10-25T11:16:01.634218Z"
    }
   }
  },
  {
   "cell_type": "markdown",
   "source": [
    "## Minimal segments"
   ],
   "metadata": {
    "collapsed": false
   }
  },
  {
   "cell_type": "markdown",
   "source": [
    "### Original sweep"
   ],
   "metadata": {
    "collapsed": false
   }
  },
  {
   "cell_type": "code",
   "execution_count": 17,
   "outputs": [],
   "source": [
    "SWEEP_ID =  \"shrjtedq\" #\"03w02539\"\n",
    "sweep = api.sweep(f\"{ENTITY}/{PROJECT}/{SWEEP_ID}\")\n",
    "filename = f\"min_segment_{SWEEP_ID}\"\n",
    "df_min_segment, train_log_likelihood_min_segment, train_mcc_min_segment, val_log_likelihood_min_segment, val_mcc_min_segment = sweep2df(sweep.runs, filename, save=True, load=False)"
   ],
   "metadata": {
    "collapsed": false,
    "ExecuteTime": {
     "end_time": "2023-10-24T15:55:33.570502Z",
     "start_time": "2023-10-24T15:49:23.175239Z"
    }
   }
  },
  {
   "cell_type": "markdown",
   "source": [
    "### Rerun for 8 and 10 dimensions"
   ],
   "metadata": {
    "collapsed": false
   }
  },
  {
   "cell_type": "code",
   "execution_count": 75,
   "outputs": [
    {
     "name": "stdout",
     "output_type": "stream",
     "text": [
      "Encountered a faulty run with ID upbeat-sweep-15\n"
     ]
    }
   ],
   "source": [
    "SWEEP_ID = \"dvn24tw0\"\n",
    "sweep = api.sweep(f\"{ENTITY}/{PROJECT}/{SWEEP_ID}\")\n",
    "filename = f\"min_segment_8_10_{SWEEP_ID}\"\n",
    "df_min_segment_8_10, train_log_likelihood_min_segment_8_10, train_mcc_min_segment_8_10, val_log_likelihood_min_segment_8_10, val_mcc_min_segment_8_10 = sweep2df(sweep.runs, filename, save=True, load=False)"
   ],
   "metadata": {
    "collapsed": false,
    "ExecuteTime": {
     "end_time": "2023-10-25T10:59:41.383530Z",
     "start_time": "2023-10-25T10:59:09.491583Z"
    }
   }
  },
  {
   "cell_type": "code",
   "execution_count": 54,
   "outputs": [],
   "source": [],
   "metadata": {
    "collapsed": false,
    "ExecuteTime": {
     "end_time": "2023-10-25T10:40:41.425713Z",
     "start_time": "2023-10-25T10:40:41.379636Z"
    }
   }
  },
  {
   "cell_type": "markdown",
   "source": [
    "### Concatenate"
   ],
   "metadata": {
    "collapsed": false
   }
  },
  {
   "cell_type": "code",
   "execution_count": 141,
   "outputs": [],
   "source": [
    "df_min_segment_concat = pd.concat([df_min_segment, df_min_segment_8_10])"
   ],
   "metadata": {
    "collapsed": false,
    "ExecuteTime": {
     "end_time": "2023-10-25T11:15:38.215124Z",
     "start_time": "2023-10-25T11:15:38.165830Z"
    }
   }
  },
  {
   "cell_type": "code",
   "execution_count": 142,
   "outputs": [
    {
     "data": {
      "text/plain": "                                 train_mcc  max_train_mcc   val_mcc  \\\nnum_comp zero_means use_B use_C                                       \n2        False      False False   0.866319       0.911332  0.582510   \n                          True    0.766681       0.820678  0.511342   \n                    True  False   0.729862       0.826553  0.516959   \n                          True    0.697367       0.888114  0.596271   \n         True       False False   0.632901       0.847892  0.619947   \n                          True    0.674872       0.830931  0.680293   \n                    True  False   0.734144       0.842189  0.693170   \n                          True    0.725062       0.875474  0.732886   \n3        False      False False   0.900751       0.941721  0.741451   \n                          True    0.910463       0.941608  0.748249   \n                    True  False   0.916051       0.950179  0.807421   \n                          True    0.861379       0.911330  0.791572   \n         True       False False   0.659496       0.784489  0.633083   \n                          True    0.618180       0.768632  0.617080   \n                    True  False   0.632505       0.773181  0.603016   \n                          True    0.666946       0.804523  0.665514   \n5        False      False False   0.891506       0.931900  0.779311   \n                          True    0.929386       0.945945  0.804987   \n                    True  False   0.927742       0.948141  0.814139   \n                          True    0.911213       0.932335  0.744684   \n         True       False False   0.657129       0.773772  0.625975   \n                          True    0.618422       0.720925  0.581564   \n                    True  False   0.620276       0.721762  0.586690   \n                          True    0.538554       0.677165  0.480110   \n8        False      False False   0.942748       0.957206  0.822469   \n                          True    0.939953       0.954366  0.797645   \n                    True  False   0.940633       0.952825  0.814091   \n         True       False False   0.584651       0.696241  0.559864   \n                          True    0.478749       0.636816  0.469697   \n                    True  False   0.522868       0.601093  0.466580   \n10       False      False True    0.914905       0.943731  0.794419   \n                    True  False   0.924568       0.942800  0.771674   \n         True       False False   0.731828       0.742926  0.660218   \n                          True    0.610552       0.610689  0.490601   \n                    True  False   0.604052       0.633980  0.498515   \n\n                                 max_val_mcc  \nnum_comp zero_means use_B use_C               \n2        False      False False     0.619459  \n                          True      0.524911  \n                    True  False     0.553255  \n                          True      0.629053  \n         True       False False     0.667954  \n                          True      0.717334  \n                    True  False     0.708631  \n                          True      0.753187  \n3        False      False False     0.747056  \n                          True      0.760785  \n                    True  False     0.822710  \n                          True      0.792605  \n         True       False False     0.712398  \n                          True      0.623745  \n                    True  False     0.646789  \n                          True      0.696059  \n5        False      False False     0.783789  \n                          True      0.805552  \n                    True  False     0.814934  \n                          True      0.747111  \n         True       False False     0.654807  \n                          True      0.608449  \n                    True  False     0.614594  \n                          True      0.597913  \n8        False      False False     0.822888  \n                          True      0.798323  \n                    True  False     0.814647  \n         True       False False     0.631025  \n                          True      0.523258  \n                    True  False     0.508819  \n10       False      False True      0.794419  \n                    True  False     0.771854  \n         True       False False     0.662591  \n                          True      0.522007  \n                    True  False     0.525531  ",
      "text/html": "<div>\n<style scoped>\n    .dataframe tbody tr th:only-of-type {\n        vertical-align: middle;\n    }\n\n    .dataframe tbody tr th {\n        vertical-align: top;\n    }\n\n    .dataframe thead th {\n        text-align: right;\n    }\n</style>\n<table border=\"1\" class=\"dataframe\">\n  <thead>\n    <tr style=\"text-align: right;\">\n      <th></th>\n      <th></th>\n      <th></th>\n      <th></th>\n      <th>train_mcc</th>\n      <th>max_train_mcc</th>\n      <th>val_mcc</th>\n      <th>max_val_mcc</th>\n    </tr>\n    <tr>\n      <th>num_comp</th>\n      <th>zero_means</th>\n      <th>use_B</th>\n      <th>use_C</th>\n      <th></th>\n      <th></th>\n      <th></th>\n      <th></th>\n    </tr>\n  </thead>\n  <tbody>\n    <tr>\n      <th rowspan=\"8\" valign=\"top\">2</th>\n      <th rowspan=\"4\" valign=\"top\">False</th>\n      <th rowspan=\"2\" valign=\"top\">False</th>\n      <th>False</th>\n      <td>0.866319</td>\n      <td>0.911332</td>\n      <td>0.582510</td>\n      <td>0.619459</td>\n    </tr>\n    <tr>\n      <th>True</th>\n      <td>0.766681</td>\n      <td>0.820678</td>\n      <td>0.511342</td>\n      <td>0.524911</td>\n    </tr>\n    <tr>\n      <th rowspan=\"2\" valign=\"top\">True</th>\n      <th>False</th>\n      <td>0.729862</td>\n      <td>0.826553</td>\n      <td>0.516959</td>\n      <td>0.553255</td>\n    </tr>\n    <tr>\n      <th>True</th>\n      <td>0.697367</td>\n      <td>0.888114</td>\n      <td>0.596271</td>\n      <td>0.629053</td>\n    </tr>\n    <tr>\n      <th rowspan=\"4\" valign=\"top\">True</th>\n      <th rowspan=\"2\" valign=\"top\">False</th>\n      <th>False</th>\n      <td>0.632901</td>\n      <td>0.847892</td>\n      <td>0.619947</td>\n      <td>0.667954</td>\n    </tr>\n    <tr>\n      <th>True</th>\n      <td>0.674872</td>\n      <td>0.830931</td>\n      <td>0.680293</td>\n      <td>0.717334</td>\n    </tr>\n    <tr>\n      <th rowspan=\"2\" valign=\"top\">True</th>\n      <th>False</th>\n      <td>0.734144</td>\n      <td>0.842189</td>\n      <td>0.693170</td>\n      <td>0.708631</td>\n    </tr>\n    <tr>\n      <th>True</th>\n      <td>0.725062</td>\n      <td>0.875474</td>\n      <td>0.732886</td>\n      <td>0.753187</td>\n    </tr>\n    <tr>\n      <th rowspan=\"8\" valign=\"top\">3</th>\n      <th rowspan=\"4\" valign=\"top\">False</th>\n      <th rowspan=\"2\" valign=\"top\">False</th>\n      <th>False</th>\n      <td>0.900751</td>\n      <td>0.941721</td>\n      <td>0.741451</td>\n      <td>0.747056</td>\n    </tr>\n    <tr>\n      <th>True</th>\n      <td>0.910463</td>\n      <td>0.941608</td>\n      <td>0.748249</td>\n      <td>0.760785</td>\n    </tr>\n    <tr>\n      <th rowspan=\"2\" valign=\"top\">True</th>\n      <th>False</th>\n      <td>0.916051</td>\n      <td>0.950179</td>\n      <td>0.807421</td>\n      <td>0.822710</td>\n    </tr>\n    <tr>\n      <th>True</th>\n      <td>0.861379</td>\n      <td>0.911330</td>\n      <td>0.791572</td>\n      <td>0.792605</td>\n    </tr>\n    <tr>\n      <th rowspan=\"4\" valign=\"top\">True</th>\n      <th rowspan=\"2\" valign=\"top\">False</th>\n      <th>False</th>\n      <td>0.659496</td>\n      <td>0.784489</td>\n      <td>0.633083</td>\n      <td>0.712398</td>\n    </tr>\n    <tr>\n      <th>True</th>\n      <td>0.618180</td>\n      <td>0.768632</td>\n      <td>0.617080</td>\n      <td>0.623745</td>\n    </tr>\n    <tr>\n      <th rowspan=\"2\" valign=\"top\">True</th>\n      <th>False</th>\n      <td>0.632505</td>\n      <td>0.773181</td>\n      <td>0.603016</td>\n      <td>0.646789</td>\n    </tr>\n    <tr>\n      <th>True</th>\n      <td>0.666946</td>\n      <td>0.804523</td>\n      <td>0.665514</td>\n      <td>0.696059</td>\n    </tr>\n    <tr>\n      <th rowspan=\"8\" valign=\"top\">5</th>\n      <th rowspan=\"4\" valign=\"top\">False</th>\n      <th rowspan=\"2\" valign=\"top\">False</th>\n      <th>False</th>\n      <td>0.891506</td>\n      <td>0.931900</td>\n      <td>0.779311</td>\n      <td>0.783789</td>\n    </tr>\n    <tr>\n      <th>True</th>\n      <td>0.929386</td>\n      <td>0.945945</td>\n      <td>0.804987</td>\n      <td>0.805552</td>\n    </tr>\n    <tr>\n      <th rowspan=\"2\" valign=\"top\">True</th>\n      <th>False</th>\n      <td>0.927742</td>\n      <td>0.948141</td>\n      <td>0.814139</td>\n      <td>0.814934</td>\n    </tr>\n    <tr>\n      <th>True</th>\n      <td>0.911213</td>\n      <td>0.932335</td>\n      <td>0.744684</td>\n      <td>0.747111</td>\n    </tr>\n    <tr>\n      <th rowspan=\"4\" valign=\"top\">True</th>\n      <th rowspan=\"2\" valign=\"top\">False</th>\n      <th>False</th>\n      <td>0.657129</td>\n      <td>0.773772</td>\n      <td>0.625975</td>\n      <td>0.654807</td>\n    </tr>\n    <tr>\n      <th>True</th>\n      <td>0.618422</td>\n      <td>0.720925</td>\n      <td>0.581564</td>\n      <td>0.608449</td>\n    </tr>\n    <tr>\n      <th rowspan=\"2\" valign=\"top\">True</th>\n      <th>False</th>\n      <td>0.620276</td>\n      <td>0.721762</td>\n      <td>0.586690</td>\n      <td>0.614594</td>\n    </tr>\n    <tr>\n      <th>True</th>\n      <td>0.538554</td>\n      <td>0.677165</td>\n      <td>0.480110</td>\n      <td>0.597913</td>\n    </tr>\n    <tr>\n      <th rowspan=\"6\" valign=\"top\">8</th>\n      <th rowspan=\"3\" valign=\"top\">False</th>\n      <th rowspan=\"2\" valign=\"top\">False</th>\n      <th>False</th>\n      <td>0.942748</td>\n      <td>0.957206</td>\n      <td>0.822469</td>\n      <td>0.822888</td>\n    </tr>\n    <tr>\n      <th>True</th>\n      <td>0.939953</td>\n      <td>0.954366</td>\n      <td>0.797645</td>\n      <td>0.798323</td>\n    </tr>\n    <tr>\n      <th>True</th>\n      <th>False</th>\n      <td>0.940633</td>\n      <td>0.952825</td>\n      <td>0.814091</td>\n      <td>0.814647</td>\n    </tr>\n    <tr>\n      <th rowspan=\"3\" valign=\"top\">True</th>\n      <th rowspan=\"2\" valign=\"top\">False</th>\n      <th>False</th>\n      <td>0.584651</td>\n      <td>0.696241</td>\n      <td>0.559864</td>\n      <td>0.631025</td>\n    </tr>\n    <tr>\n      <th>True</th>\n      <td>0.478749</td>\n      <td>0.636816</td>\n      <td>0.469697</td>\n      <td>0.523258</td>\n    </tr>\n    <tr>\n      <th>True</th>\n      <th>False</th>\n      <td>0.522868</td>\n      <td>0.601093</td>\n      <td>0.466580</td>\n      <td>0.508819</td>\n    </tr>\n    <tr>\n      <th rowspan=\"5\" valign=\"top\">10</th>\n      <th rowspan=\"2\" valign=\"top\">False</th>\n      <th>False</th>\n      <th>True</th>\n      <td>0.914905</td>\n      <td>0.943731</td>\n      <td>0.794419</td>\n      <td>0.794419</td>\n    </tr>\n    <tr>\n      <th>True</th>\n      <th>False</th>\n      <td>0.924568</td>\n      <td>0.942800</td>\n      <td>0.771674</td>\n      <td>0.771854</td>\n    </tr>\n    <tr>\n      <th rowspan=\"3\" valign=\"top\">True</th>\n      <th rowspan=\"2\" valign=\"top\">False</th>\n      <th>False</th>\n      <td>0.731828</td>\n      <td>0.742926</td>\n      <td>0.660218</td>\n      <td>0.662591</td>\n    </tr>\n    <tr>\n      <th>True</th>\n      <td>0.610552</td>\n      <td>0.610689</td>\n      <td>0.490601</td>\n      <td>0.522007</td>\n    </tr>\n    <tr>\n      <th>True</th>\n      <th>False</th>\n      <td>0.604052</td>\n      <td>0.633980</td>\n      <td>0.498515</td>\n      <td>0.525531</td>\n    </tr>\n  </tbody>\n</table>\n</div>"
     },
     "execution_count": 142,
     "metadata": {},
     "output_type": "execute_result"
    }
   ],
   "source": [
    "df_min_segment_concat.groupby([\"num_comp\", \"zero_means\", \"use_B\", \"use_C\"]).mean()[\n",
    "    [\"train_mcc\", \"max_train_mcc\", \"val_mcc\", \"max_val_mcc\"]]"
   ],
   "metadata": {
    "collapsed": false,
    "ExecuteTime": {
     "end_time": "2023-10-25T11:15:38.555396Z",
     "start_time": "2023-10-25T11:15:38.475256Z"
    }
   }
  },
  {
   "cell_type": "code",
   "execution_count": 143,
   "outputs": [],
   "source": [
    "df_min_segment_concat_dict = {\n",
    "    comp: df_min_segment_concat[df_min_segment_concat.num_comp == comp].groupby([\"num_comp\", \"zero_means\", \"use_B\", \"use_C\"])\n",
    "    for\n",
    "    comp in sorted(df_min_segment_concat.num_comp.unique())}"
   ],
   "metadata": {
    "collapsed": false,
    "ExecuteTime": {
     "end_time": "2023-10-25T11:15:41.850527Z",
     "start_time": "2023-10-25T11:15:41.768365Z"
    }
   }
  },
  {
   "cell_type": "code",
   "execution_count": 144,
   "outputs": [],
   "source": [
    "min_segment_stats = [stats2string(df) for comp, df in df_min_segment_concat_dict.items()]"
   ],
   "metadata": {
    "collapsed": false,
    "ExecuteTime": {
     "end_time": "2023-10-25T11:15:42.677986Z",
     "start_time": "2023-10-25T11:15:42.598378Z"
    }
   }
  },
  {
   "cell_type": "markdown",
   "source": [
    "# Render text for table"
   ],
   "metadata": {
    "collapsed": false
   }
  },
  {
   "cell_type": "code",
   "execution_count": 154,
   "outputs": [],
   "source": [
    "all_stats = [\"\".join([\"-----\", str(comp),\"\\n\" , min_segment, max_var, \"\\n\"]) for comp, min_segment, max_var in zip(sorted(df_min_segment_concat.num_comp.unique()), min_segment_stats, max_var_stats)]"
   ],
   "metadata": {
    "collapsed": false,
    "ExecuteTime": {
     "end_time": "2023-10-25T11:17:36.892837Z",
     "start_time": "2023-10-25T11:17:36.856645Z"
    }
   }
  },
  {
   "cell_type": "code",
   "execution_count": 155,
   "outputs": [
    {
     "name": "stdout",
     "output_type": "stream",
     "text": [
      "-----2\n",
      "$0.866\\scriptscriptstyle\\pm 0.033$ & $0.767\\scriptscriptstyle\\pm 0.158$ & $0.730\\scriptscriptstyle\\pm 0.191$ & $0.697\\scriptscriptstyle\\pm 0.090$ & $0.633\\scriptscriptstyle\\pm 0.104$ & $0.675\\scriptscriptstyle\\pm 0.132$ & $0.734\\scriptscriptstyle\\pm 0.158$ & $0.725\\scriptscriptstyle\\pm 0.115$ & $0.968\\scriptscriptstyle\\pm 0.055$ & \n",
      "\n",
      "-----3\n",
      "$0.901\\scriptscriptstyle\\pm 0.054$ & $0.910\\scriptscriptstyle\\pm 0.061$ & $0.916\\scriptscriptstyle\\pm 0.044$ & $0.861\\scriptscriptstyle\\pm 0.062$ & $0.659\\scriptscriptstyle\\pm 0.201$ & $0.618\\scriptscriptstyle\\pm 0.241$ & $0.633\\scriptscriptstyle\\pm 0.110$ & $0.667\\scriptscriptstyle\\pm 0.109$ & $1.000\\scriptscriptstyle\\pm 0.000$ & \n",
      "\n",
      "-----5\n",
      "$0.892\\scriptscriptstyle\\pm 0.057$ & $0.929\\scriptscriptstyle\\pm 0.025$ & $0.928\\scriptscriptstyle\\pm 0.026$ & $0.911\\scriptscriptstyle\\pm 0.045$ & $0.657\\scriptscriptstyle\\pm 0.116$ & $0.618\\scriptscriptstyle\\pm 0.079$ & $0.620\\scriptscriptstyle\\pm 0.025$ & $0.539\\scriptscriptstyle\\pm 0.078$ & $0.995\\scriptscriptstyle\\pm 0.009$ & \n",
      "\n",
      "-----8\n",
      "$0.943\\scriptscriptstyle\\pm 0.006$ & $0.940\\scriptscriptstyle\\pm 0.008$ & $0.941\\scriptscriptstyle\\pm 0.009$ & $0.585\\scriptscriptstyle\\pm 0.144$ & $0.479\\scriptscriptstyle\\pm 0.129$ & $0.523\\scriptscriptstyle\\pm 0.016$ & $0.977\\scriptscriptstyle\\pm 0.011$ & \n",
      "\n",
      "-----10\n",
      "$0.915\\scriptscriptstyle\\pm 0.023$ & $0.925\\scriptscriptstyle\\pm 0.017$ & $0.732\\scriptscriptstyle\\pm nan$ & $0.611\\scriptscriptstyle\\pm 0.043$ & $0.604\\scriptscriptstyle\\pm 0.063$ & $0.996\\scriptscriptstyle\\pm 0.006$ & \n",
      "\n"
     ]
    }
   ],
   "source": [
    "print(\"\\n\".join(all_stats))"
   ],
   "metadata": {
    "collapsed": false,
    "ExecuteTime": {
     "end_time": "2023-10-25T11:17:38.270715Z",
     "start_time": "2023-10-25T11:17:38.235082Z"
    }
   }
  }
 ],
 "metadata": {
  "kernelspec": {
   "display_name": "Python 3 (ipykernel)",
   "language": "python",
   "name": "python3"
  },
  "language_info": {
   "codemirror_mode": {
    "name": "ipython",
    "version": 3
   },
   "file_extension": ".py",
   "mimetype": "text/x-python",
   "name": "python",
   "nbconvert_exporter": "python",
   "pygments_lexer": "ipython3",
   "version": "3.9.6"
  }
 },
 "nbformat": 4,
 "nbformat_minor": 1
}
